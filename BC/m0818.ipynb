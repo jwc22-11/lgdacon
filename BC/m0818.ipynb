{
 "cells": [
  {
   "cell_type": "code",
   "execution_count": 13,
   "id": "9d658eac",
   "metadata": {},
   "outputs": [],
   "source": [
    "import os\n",
    "import pandas as pd\n",
    "import numpy as np\n",
    "import matplotlib.pyplot as plt\n",
    "from sklearn.preprocessing import StandardScaler\n",
    "from sklearn.model_selection import train_test_split as tts\n",
    "from sklearn.model_selection import RandomizedSearchCV\n",
    "from sklearn.multioutput import MultiOutputRegressor\n",
    "from sklearn.metrics import make_scorer\n",
    "from sklearn  import metrics\n",
    "from sklearn.ensemble import RandomForestRegressor"
   ]
  },
  {
   "cell_type": "code",
   "execution_count": 2,
   "id": "9b7533f1",
   "metadata": {},
   "outputs": [],
   "source": [
    "# train csv\n",
    "zip_dir = '/Data1/Radar'\n",
    "meta_dir = os.path.join(zip_dir, 'meta')\n",
    "x_feature = pd.read_csv(meta_dir+'/x_feature_info.csv')\n",
    "train = pd.read_csv(os.path.join(zip_dir,'train.csv'))\n",
    "test = pd.read_csv(os.path.join(zip_dir,'test.csv'))\n",
    "submission = pd.read_csv(zip_dir+'/sample_submission.csv')"
   ]
  },
  {
   "cell_type": "code",
   "execution_count": 9,
   "id": "4508f97f",
   "metadata": {},
   "outputs": [],
   "source": [
    "def lg_nrmse(gt, preds):\n",
    "    # 각 Y Feature별 NRMSE 총합\n",
    "    # Y_01 ~ Y_08 까지 20% 가중치 부여\n",
    "    all_nrmse = []\n",
    "    for idx in range(14): # ignore 'ID'\n",
    "        rmse = metrics.mean_squared_error(gt[:,idx], preds[:,idx], squared=False)\n",
    "        nrmse = rmse/np.mean(np.abs(gt[:,idx]))\n",
    "        all_nrmse.append(nrmse)\n",
    "    score = 1.2 * np.sum(all_nrmse[:8]) + 1.0 * np.sum(all_nrmse[8:14])\n",
    "    return score"
   ]
  },
  {
   "cell_type": "code",
   "execution_count": 3,
   "id": "aa3cdad8",
   "metadata": {},
   "outputs": [],
   "source": [
    "def my_preprocessing(dataset) :\n",
    "    preprocessed = dataset.drop(['ID','X_04','X_10','X_11','X_23','X_47','X_48'],axis=1)\n",
    "    preprocessed['X_021'] = dataset['X_02'].apply(lambda x : 1.0 if x > 103.320 else 0.0)\n",
    "    preprocessed['X_03'] = dataset['X_03'].apply(lambda x : np.log(x))\n",
    "    preprocessed['X_051'] = dataset['X_05'].apply(lambda x : 1.0 if x <=102.25 else 0.0)\n",
    "    preprocessed['X_07'] = dataset['X_07'].apply(lambda x : 40 if x > 40 else x)\n",
    "    preprocessed['X_08'] = dataset['X_08'].apply(lambda x : 6.1 if np.log(x) > 6 else np.log(x))\n",
    "    preprocessed['X_09'] = dataset['X_09'].apply(lambda x : np.log(x))\n",
    "    preprocessed['X_25'] = dataset['X_25'].apply(lambda x : 2.2 if x > 2.2 else x)\n",
    "    preprocessed['X_26'] = dataset['X_26'].apply(lambda x : 2.2 if x > 2.2 else x)\n",
    "    preprocessed['X_27'] = dataset['X_27'].apply(lambda x : 2.2 if x > 2.2 else x)\n",
    "    preprocessed['X_28'] = dataset['X_28'].apply(lambda x : 2.25 if x > 2.25 else x)\n",
    "    preprocessed['X_29'] = dataset['X_29'].apply(lambda x : 2.3 if x > 2.3 else x)\n",
    "    preprocessed['X_31'] = dataset['X_31'].apply(lambda x : 2.0 if x > 2.0 else x)\n",
    "    preprocessed['X_33'] = dataset['X_33'].apply(lambda x : 2.0 if x > 2.0 else x)\n",
    "    preprocessed['X_38'] = dataset['X_38'].apply(lambda x : -2.66 if x > -2.65 else x)\n",
    "    preprocessed['X_39'] = dataset['X_39'].apply(lambda x : -2.66 if x > -2.65 else x)\n",
    "    preprocessed['X_49'] = dataset['X_49'].apply(lambda x : 20000.0 if x > 20000 else x)\n",
    "    preprocessed['X_50'] = dataset['X_50'].apply(lambda x : 120.0 if x < 120 else x)\n",
    "    preprocessed['X_51'] = dataset['X_51'].apply(lambda x : 120.0 if x < 120 else x)    \n",
    "    preprocessed['X_51'] = dataset['X_51'].apply(lambda x : 150.0 if x > 150 else x)\n",
    "    preprocessed['X_52'] = dataset['X_52'].apply(lambda x : 120.0 if x < 120 else x)\n",
    "    preprocessed['X_53'] = dataset['X_53'].apply(lambda x : 120.0 if x < 120 else x)\n",
    "    preprocessed['X_54'] = dataset['X_54'].apply(lambda x : 120.0 if x < 120 else x)    \n",
    "    preprocessed['X_54'] = dataset['X_54'].apply(lambda x : 150.0 if x > 150 else x)\n",
    "    preprocessed['X_55'] = dataset['X_55'].apply(lambda x : 120.0 if x < 120 else x)    \n",
    "    preprocessed['X_56'] = dataset['X_56'].apply(lambda x : 120.0 if x < 120 else x)\n",
    "    \n",
    "    preprocessed['X_57'] = dataset['X_30'] * dataset['X_34'] # 스크류삽입깊이 x 스크류 체결시 분당 회전수\n",
    "    preprocessed['X_58'] = dataset['X_31'] * dataset['X_35']\n",
    "    preprocessed['X_59'] = dataset['X_32'] * dataset['X_36']\n",
    "    preprocessed['X_60'] = dataset['X_33'] * dataset['X_37']\n",
    "    preprocessed = preprocessed.drop(['X_30','X_31','X_32','X_33','X_34','X_35','X_36','X_37'],axis=1)\n",
    "    \n",
    "    return preprocessed[sorted(preprocessed.T.index)]"
   ]
  },
  {
   "cell_type": "code",
   "execution_count": 4,
   "id": "03bb7a84",
   "metadata": {},
   "outputs": [
    {
     "name": "stdout",
     "output_type": "stream",
     "text": [
      "train_x : (39607, 48)\n",
      "train_y : (39607, 14)\n"
     ]
    }
   ],
   "source": [
    "processed = my_preprocessing(train)\n",
    "train_x = processed[processed.columns[:-14]]\n",
    "print(f'train_x : {train_x.shape}')\n",
    "train_y = processed[processed.columns[-14:]]\n",
    "print(f'train_y : {train_y.shape}')"
   ]
  },
  {
   "cell_type": "code",
   "execution_count": 5,
   "id": "71f6029f",
   "metadata": {},
   "outputs": [
    {
     "data": {
      "text/plain": [
       "(39607, 48)"
      ]
     },
     "execution_count": 5,
     "metadata": {},
     "output_type": "execute_result"
    }
   ],
   "source": [
    "scaler = StandardScaler()\n",
    "scaler.fit(train_x)\n",
    "scaled_x = scaler.transform(train_x)\n",
    "scaled_x.shape"
   ]
  },
  {
   "cell_type": "code",
   "execution_count": 6,
   "id": "10a1e7f2",
   "metadata": {},
   "outputs": [
    {
     "data": {
      "text/plain": [
       "(39607, 14)"
      ]
     },
     "execution_count": 6,
     "metadata": {},
     "output_type": "execute_result"
    }
   ],
   "source": [
    "label = np.array(train_y)\n",
    "label.shape"
   ]
  },
  {
   "cell_type": "markdown",
   "id": "604c1e6c",
   "metadata": {},
   "source": [
    "# Split the dataset"
   ]
  },
  {
   "cell_type": "code",
   "execution_count": 7,
   "id": "3a8faaf6",
   "metadata": {},
   "outputs": [
    {
     "name": "stdout",
     "output_type": "stream",
     "text": [
      "x_train : (31685, 48)\n",
      "y_train : (31685, 14)\n",
      "x_test  : (7922, 48)\n",
      "y_test  : (7922, 14)\n"
     ]
    }
   ],
   "source": [
    "x_train, x_test, y_train, y_test = tts(scaled_x, label, test_size = 0.2, random_state = 1)\n",
    "print(f'x_train : {x_train.shape}')\n",
    "print(f'y_train : {y_train.shape}')\n",
    "print(f'x_test  : {x_test.shape}')\n",
    "print(f'y_test  : {y_test.shape}')"
   ]
  },
  {
   "cell_type": "markdown",
   "id": "3daae42e",
   "metadata": {},
   "source": [
    "# Regressor"
   ]
  },
  {
   "cell_type": "code",
   "execution_count": 28,
   "id": "c267a4fb",
   "metadata": {},
   "outputs": [],
   "source": [
    "score = make_scorer(lg_nrmse, greater_is_better=False)\n",
    "\n",
    "regr_multirf = MultiOutputRegressor(\n",
    "    RandomForestRegressor(random_state=1)\n",
    ")\n",
    "params ={\n",
    "    'estimator__bootstrap' : [True, False],\n",
    "    'estimator__n_estimators':[100,200,300],\n",
    "    'estimator__max_depth':[6,8,10,12,20,30],\n",
    "    \n",
    "    'estimator__min_samples_leaf':[4,8,12,18,20,24],\n",
    "    'estimator__min_samples_split':[4,8,16,20,30]\n",
    "}\n",
    "\n",
    "\n",
    "clf = RandomizedSearchCV(regr_multirf,params,random_state=1,cv=5,n_jobs=-1, scoring = score, n_iter =20)"
   ]
  },
  {
   "cell_type": "code",
   "execution_count": 29,
   "id": "b6a715f8",
   "metadata": {},
   "outputs": [
    {
     "data": {
      "text/html": [
       "<style>#sk-container-id-1 {color: black;background-color: white;}#sk-container-id-1 pre{padding: 0;}#sk-container-id-1 div.sk-toggleable {background-color: white;}#sk-container-id-1 label.sk-toggleable__label {cursor: pointer;display: block;width: 100%;margin-bottom: 0;padding: 0.3em;box-sizing: border-box;text-align: center;}#sk-container-id-1 label.sk-toggleable__label-arrow:before {content: \"▸\";float: left;margin-right: 0.25em;color: #696969;}#sk-container-id-1 label.sk-toggleable__label-arrow:hover:before {color: black;}#sk-container-id-1 div.sk-estimator:hover label.sk-toggleable__label-arrow:before {color: black;}#sk-container-id-1 div.sk-toggleable__content {max-height: 0;max-width: 0;overflow: hidden;text-align: left;background-color: #f0f8ff;}#sk-container-id-1 div.sk-toggleable__content pre {margin: 0.2em;color: black;border-radius: 0.25em;background-color: #f0f8ff;}#sk-container-id-1 input.sk-toggleable__control:checked~div.sk-toggleable__content {max-height: 200px;max-width: 100%;overflow: auto;}#sk-container-id-1 input.sk-toggleable__control:checked~label.sk-toggleable__label-arrow:before {content: \"▾\";}#sk-container-id-1 div.sk-estimator input.sk-toggleable__control:checked~label.sk-toggleable__label {background-color: #d4ebff;}#sk-container-id-1 div.sk-label input.sk-toggleable__control:checked~label.sk-toggleable__label {background-color: #d4ebff;}#sk-container-id-1 input.sk-hidden--visually {border: 0;clip: rect(1px 1px 1px 1px);clip: rect(1px, 1px, 1px, 1px);height: 1px;margin: -1px;overflow: hidden;padding: 0;position: absolute;width: 1px;}#sk-container-id-1 div.sk-estimator {font-family: monospace;background-color: #f0f8ff;border: 1px dotted black;border-radius: 0.25em;box-sizing: border-box;margin-bottom: 0.5em;}#sk-container-id-1 div.sk-estimator:hover {background-color: #d4ebff;}#sk-container-id-1 div.sk-parallel-item::after {content: \"\";width: 100%;border-bottom: 1px solid gray;flex-grow: 1;}#sk-container-id-1 div.sk-label:hover label.sk-toggleable__label {background-color: #d4ebff;}#sk-container-id-1 div.sk-serial::before {content: \"\";position: absolute;border-left: 1px solid gray;box-sizing: border-box;top: 0;bottom: 0;left: 50%;z-index: 0;}#sk-container-id-1 div.sk-serial {display: flex;flex-direction: column;align-items: center;background-color: white;padding-right: 0.2em;padding-left: 0.2em;position: relative;}#sk-container-id-1 div.sk-item {position: relative;z-index: 1;}#sk-container-id-1 div.sk-parallel {display: flex;align-items: stretch;justify-content: center;background-color: white;position: relative;}#sk-container-id-1 div.sk-item::before, #sk-container-id-1 div.sk-parallel-item::before {content: \"\";position: absolute;border-left: 1px solid gray;box-sizing: border-box;top: 0;bottom: 0;left: 50%;z-index: -1;}#sk-container-id-1 div.sk-parallel-item {display: flex;flex-direction: column;z-index: 1;position: relative;background-color: white;}#sk-container-id-1 div.sk-parallel-item:first-child::after {align-self: flex-end;width: 50%;}#sk-container-id-1 div.sk-parallel-item:last-child::after {align-self: flex-start;width: 50%;}#sk-container-id-1 div.sk-parallel-item:only-child::after {width: 0;}#sk-container-id-1 div.sk-dashed-wrapped {border: 1px dashed gray;margin: 0 0.4em 0.5em 0.4em;box-sizing: border-box;padding-bottom: 0.4em;background-color: white;}#sk-container-id-1 div.sk-label label {font-family: monospace;font-weight: bold;display: inline-block;line-height: 1.2em;}#sk-container-id-1 div.sk-label-container {text-align: center;}#sk-container-id-1 div.sk-container {/* jupyter's `normalize.less` sets `[hidden] { display: none; }` but bootstrap.min.css set `[hidden] { display: none !important; }` so we also need the `!important` here to be able to override the default hidden behavior on the sphinx rendered scikit-learn.org. See: https://github.com/scikit-learn/scikit-learn/issues/21755 */display: inline-block !important;position: relative;}#sk-container-id-1 div.sk-text-repr-fallback {display: none;}</style><div id=\"sk-container-id-1\" class=\"sk-top-container\"><div class=\"sk-text-repr-fallback\"><pre>RandomizedSearchCV(cv=5,\n",
       "                   estimator=MultiOutputRegressor(estimator=RandomForestRegressor(random_state=1)),\n",
       "                   n_iter=20, n_jobs=-1,\n",
       "                   param_distributions={&#x27;estimator__bootstrap&#x27;: [True, False],\n",
       "                                        &#x27;estimator__max_depth&#x27;: [6, 8, 10, 12,\n",
       "                                                                 20, 30],\n",
       "                                        &#x27;estimator__min_samples_leaf&#x27;: [4, 8,\n",
       "                                                                        12, 18,\n",
       "                                                                        20,\n",
       "                                                                        24],\n",
       "                                        &#x27;estimator__min_samples_split&#x27;: [4, 8,\n",
       "                                                                         16, 20,\n",
       "                                                                         30],\n",
       "                                        &#x27;estimator__n_estimators&#x27;: [100, 200,\n",
       "                                                                    300]},\n",
       "                   random_state=1,\n",
       "                   scoring=make_scorer(lg_nrmse, greater_is_better=False))</pre><b>In a Jupyter environment, please rerun this cell to show the HTML representation or trust the notebook. <br />On GitHub, the HTML representation is unable to render, please try loading this page with nbviewer.org.</b></div><div class=\"sk-container\" hidden><div class=\"sk-item sk-dashed-wrapped\"><div class=\"sk-label-container\"><div class=\"sk-label sk-toggleable\"><input class=\"sk-toggleable__control sk-hidden--visually\" id=\"sk-estimator-id-1\" type=\"checkbox\" ><label for=\"sk-estimator-id-1\" class=\"sk-toggleable__label sk-toggleable__label-arrow\">RandomizedSearchCV</label><div class=\"sk-toggleable__content\"><pre>RandomizedSearchCV(cv=5,\n",
       "                   estimator=MultiOutputRegressor(estimator=RandomForestRegressor(random_state=1)),\n",
       "                   n_iter=20, n_jobs=-1,\n",
       "                   param_distributions={&#x27;estimator__bootstrap&#x27;: [True, False],\n",
       "                                        &#x27;estimator__max_depth&#x27;: [6, 8, 10, 12,\n",
       "                                                                 20, 30],\n",
       "                                        &#x27;estimator__min_samples_leaf&#x27;: [4, 8,\n",
       "                                                                        12, 18,\n",
       "                                                                        20,\n",
       "                                                                        24],\n",
       "                                        &#x27;estimator__min_samples_split&#x27;: [4, 8,\n",
       "                                                                         16, 20,\n",
       "                                                                         30],\n",
       "                                        &#x27;estimator__n_estimators&#x27;: [100, 200,\n",
       "                                                                    300]},\n",
       "                   random_state=1,\n",
       "                   scoring=make_scorer(lg_nrmse, greater_is_better=False))</pre></div></div></div><div class=\"sk-parallel\"><div class=\"sk-parallel-item\"><div class=\"sk-item\"><div class=\"sk-label-container\"><div class=\"sk-label sk-toggleable\"><input class=\"sk-toggleable__control sk-hidden--visually\" id=\"sk-estimator-id-2\" type=\"checkbox\" ><label for=\"sk-estimator-id-2\" class=\"sk-toggleable__label sk-toggleable__label-arrow\">estimator: MultiOutputRegressor</label><div class=\"sk-toggleable__content\"><pre>MultiOutputRegressor(estimator=RandomForestRegressor(random_state=1))</pre></div></div></div><div class=\"sk-serial\"><div class=\"sk-item sk-dashed-wrapped\"><div class=\"sk-parallel\"><div class=\"sk-parallel-item\"><div class=\"sk-item\"><div class=\"sk-label-container\"><div class=\"sk-label sk-toggleable\"><input class=\"sk-toggleable__control sk-hidden--visually\" id=\"sk-estimator-id-3\" type=\"checkbox\" ><label for=\"sk-estimator-id-3\" class=\"sk-toggleable__label sk-toggleable__label-arrow\">estimator: RandomForestRegressor</label><div class=\"sk-toggleable__content\"><pre>RandomForestRegressor(random_state=1)</pre></div></div></div><div class=\"sk-serial\"><div class=\"sk-item\"><div class=\"sk-estimator sk-toggleable\"><input class=\"sk-toggleable__control sk-hidden--visually\" id=\"sk-estimator-id-4\" type=\"checkbox\" ><label for=\"sk-estimator-id-4\" class=\"sk-toggleable__label sk-toggleable__label-arrow\">RandomForestRegressor</label><div class=\"sk-toggleable__content\"><pre>RandomForestRegressor(random_state=1)</pre></div></div></div></div></div></div></div></div></div></div></div></div></div></div></div>"
      ],
      "text/plain": [
       "RandomizedSearchCV(cv=5,\n",
       "                   estimator=MultiOutputRegressor(estimator=RandomForestRegressor(random_state=1)),\n",
       "                   n_iter=20, n_jobs=-1,\n",
       "                   param_distributions={'estimator__bootstrap': [True, False],\n",
       "                                        'estimator__max_depth': [6, 8, 10, 12,\n",
       "                                                                 20, 30],\n",
       "                                        'estimator__min_samples_leaf': [4, 8,\n",
       "                                                                        12, 18,\n",
       "                                                                        20,\n",
       "                                                                        24],\n",
       "                                        'estimator__min_samples_split': [4, 8,\n",
       "                                                                         16, 20,\n",
       "                                                                         30],\n",
       "                                        'estimator__n_estimators': [100, 200,\n",
       "                                                                    300]},\n",
       "                   random_state=1,\n",
       "                   scoring=make_scorer(lg_nrmse, greater_is_better=False))"
      ]
     },
     "execution_count": 29,
     "metadata": {},
     "output_type": "execute_result"
    }
   ],
   "source": [
    "clf.fit(x_train, y_train)"
   ]
  },
  {
   "cell_type": "code",
   "execution_count": 30,
   "id": "6feb6aea",
   "metadata": {},
   "outputs": [
    {
     "name": "stdout",
     "output_type": "stream",
     "text": [
      "최적 하이퍼파라미터:  {'estimator__n_estimators': 300, 'estimator__min_samples_split': 16, 'estimator__min_samples_leaf': 8, 'estimator__max_depth': 30, 'estimator__bootstrap': True}\n"
     ]
    }
   ],
   "source": [
    "print('최적 하이퍼파라미터: ', clf.best_params_)"
   ]
  },
  {
   "cell_type": "code",
   "execution_count": 34,
   "id": "edab8e3e",
   "metadata": {},
   "outputs": [
    {
     "data": {
      "text/plain": [
       "{'mean_fit_time': array([1871.11258693, 2272.40145974, 3014.11152782,  752.72114658,\n",
       "        1625.5865077 ,  746.90554352, 1140.44539309, 1634.79637942,\n",
       "        1350.14022627, 1112.04590445, 3267.13111396,  898.43676815,\n",
       "        1346.26615763, 1337.1903842 , 3448.34120288, 2593.35906835,\n",
       "        1519.00604849, 2198.72180114,  907.93825793, 1591.12790399]),\n",
       " 'std_fit_time': array([124.82038126,  45.50992639,  40.13703371,   5.73994428,\n",
       "         73.54497348,  40.08011333,   9.49872099, 156.28950012,\n",
       "        101.10033273,  40.24399961,  67.18402198,   7.29099164,\n",
       "         17.99615982,  31.8933243 ,  49.58112871,  45.87946463,\n",
       "         19.60921376,  47.96649901,   7.21705498,  35.64755425]),\n",
       " 'mean_score_time': array([2.46722398, 1.68465137, 4.50647888, 1.24915543, 1.39781761,\n",
       "        1.33572006, 1.74307628, 2.00661712, 1.81186419, 1.73011403,\n",
       "        3.01402302, 1.41183562, 2.1767169 , 1.16178565, 3.19397511,\n",
       "        3.63193355, 1.17964172, 1.62506456, 1.40955634, 1.95341573]),\n",
       " 'std_score_time': array([0.05318798, 0.03987905, 0.0826163 , 0.15813749, 0.27045932,\n",
       "        0.23212151, 0.07462603, 0.10598052, 0.36488331, 0.25166017,\n",
       "        0.05617237, 0.18584469, 0.1563098 , 0.22140091, 0.08004965,\n",
       "        0.04861505, 0.17884138, 0.04204174, 0.1419159 , 0.27916221]),\n",
       " 'param_estimator__n_estimators': masked_array(data=[200, 200, 300, 100, 200, 100, 200, 200, 200, 100, 300,\n",
       "                    100, 100, 100, 300, 300, 100, 300, 100, 300],\n",
       "              mask=[False, False, False, False, False, False, False, False,\n",
       "                    False, False, False, False, False, False, False, False,\n",
       "                    False, False, False, False],\n",
       "        fill_value='?',\n",
       "             dtype=object),\n",
       " 'param_estimator__min_samples_split': masked_array(data=[30, 20, 16, 16, 8, 20, 8, 30, 30, 16, 16, 30, 20, 8, 4,\n",
       "                    20, 4, 16, 20, 20],\n",
       "              mask=[False, False, False, False, False, False, False, False,\n",
       "                    False, False, False, False, False, False, False, False,\n",
       "                    False, False, False, False],\n",
       "        fill_value='?',\n",
       "             dtype=object),\n",
       " 'param_estimator__min_samples_leaf': masked_array(data=[20, 8, 8, 12, 24, 4, 18, 4, 18, 20, 18, 8, 8, 24, 4,\n",
       "                    20, 24, 12, 8, 12],\n",
       "              mask=[False, False, False, False, False, False, False, False,\n",
       "                    False, False, False, False, False, False, False, False,\n",
       "                    False, False, False, False],\n",
       "        fill_value='?',\n",
       "             dtype=object),\n",
       " 'param_estimator__max_depth': masked_array(data=[20, 10, 30, 8, 6, 8, 6, 12, 8, 30, 12, 10, 30, 10, 12,\n",
       "                    30, 12, 6, 10, 6],\n",
       "              mask=[False, False, False, False, False, False, False, False,\n",
       "                    False, False, False, False, False, False, False, False,\n",
       "                    False, False, False, False],\n",
       "        fill_value='?',\n",
       "             dtype=object),\n",
       " 'param_estimator__bootstrap': masked_array(data=[True, False, True, True, False, True, True, True, True,\n",
       "                    True, False, True, True, False, False, True, False,\n",
       "                    False, True, True],\n",
       "              mask=[False, False, False, False, False, False, False, False,\n",
       "                    False, False, False, False, False, False, False, False,\n",
       "                    False, False, False, False],\n",
       "        fill_value='?',\n",
       "             dtype=object),\n",
       " 'params': [{'estimator__n_estimators': 200,\n",
       "   'estimator__min_samples_split': 30,\n",
       "   'estimator__min_samples_leaf': 20,\n",
       "   'estimator__max_depth': 20,\n",
       "   'estimator__bootstrap': True},\n",
       "  {'estimator__n_estimators': 200,\n",
       "   'estimator__min_samples_split': 20,\n",
       "   'estimator__min_samples_leaf': 8,\n",
       "   'estimator__max_depth': 10,\n",
       "   'estimator__bootstrap': False},\n",
       "  {'estimator__n_estimators': 300,\n",
       "   'estimator__min_samples_split': 16,\n",
       "   'estimator__min_samples_leaf': 8,\n",
       "   'estimator__max_depth': 30,\n",
       "   'estimator__bootstrap': True},\n",
       "  {'estimator__n_estimators': 100,\n",
       "   'estimator__min_samples_split': 16,\n",
       "   'estimator__min_samples_leaf': 12,\n",
       "   'estimator__max_depth': 8,\n",
       "   'estimator__bootstrap': True},\n",
       "  {'estimator__n_estimators': 200,\n",
       "   'estimator__min_samples_split': 8,\n",
       "   'estimator__min_samples_leaf': 24,\n",
       "   'estimator__max_depth': 6,\n",
       "   'estimator__bootstrap': False},\n",
       "  {'estimator__n_estimators': 100,\n",
       "   'estimator__min_samples_split': 20,\n",
       "   'estimator__min_samples_leaf': 4,\n",
       "   'estimator__max_depth': 8,\n",
       "   'estimator__bootstrap': True},\n",
       "  {'estimator__n_estimators': 200,\n",
       "   'estimator__min_samples_split': 8,\n",
       "   'estimator__min_samples_leaf': 18,\n",
       "   'estimator__max_depth': 6,\n",
       "   'estimator__bootstrap': True},\n",
       "  {'estimator__n_estimators': 200,\n",
       "   'estimator__min_samples_split': 30,\n",
       "   'estimator__min_samples_leaf': 4,\n",
       "   'estimator__max_depth': 12,\n",
       "   'estimator__bootstrap': True},\n",
       "  {'estimator__n_estimators': 200,\n",
       "   'estimator__min_samples_split': 30,\n",
       "   'estimator__min_samples_leaf': 18,\n",
       "   'estimator__max_depth': 8,\n",
       "   'estimator__bootstrap': True},\n",
       "  {'estimator__n_estimators': 100,\n",
       "   'estimator__min_samples_split': 16,\n",
       "   'estimator__min_samples_leaf': 20,\n",
       "   'estimator__max_depth': 30,\n",
       "   'estimator__bootstrap': True},\n",
       "  {'estimator__n_estimators': 300,\n",
       "   'estimator__min_samples_split': 16,\n",
       "   'estimator__min_samples_leaf': 18,\n",
       "   'estimator__max_depth': 12,\n",
       "   'estimator__bootstrap': False},\n",
       "  {'estimator__n_estimators': 100,\n",
       "   'estimator__min_samples_split': 30,\n",
       "   'estimator__min_samples_leaf': 8,\n",
       "   'estimator__max_depth': 10,\n",
       "   'estimator__bootstrap': True},\n",
       "  {'estimator__n_estimators': 100,\n",
       "   'estimator__min_samples_split': 20,\n",
       "   'estimator__min_samples_leaf': 8,\n",
       "   'estimator__max_depth': 30,\n",
       "   'estimator__bootstrap': True},\n",
       "  {'estimator__n_estimators': 100,\n",
       "   'estimator__min_samples_split': 8,\n",
       "   'estimator__min_samples_leaf': 24,\n",
       "   'estimator__max_depth': 10,\n",
       "   'estimator__bootstrap': False},\n",
       "  {'estimator__n_estimators': 300,\n",
       "   'estimator__min_samples_split': 4,\n",
       "   'estimator__min_samples_leaf': 4,\n",
       "   'estimator__max_depth': 12,\n",
       "   'estimator__bootstrap': False},\n",
       "  {'estimator__n_estimators': 300,\n",
       "   'estimator__min_samples_split': 20,\n",
       "   'estimator__min_samples_leaf': 20,\n",
       "   'estimator__max_depth': 30,\n",
       "   'estimator__bootstrap': True},\n",
       "  {'estimator__n_estimators': 100,\n",
       "   'estimator__min_samples_split': 4,\n",
       "   'estimator__min_samples_leaf': 24,\n",
       "   'estimator__max_depth': 12,\n",
       "   'estimator__bootstrap': False},\n",
       "  {'estimator__n_estimators': 300,\n",
       "   'estimator__min_samples_split': 16,\n",
       "   'estimator__min_samples_leaf': 12,\n",
       "   'estimator__max_depth': 6,\n",
       "   'estimator__bootstrap': False},\n",
       "  {'estimator__n_estimators': 100,\n",
       "   'estimator__min_samples_split': 20,\n",
       "   'estimator__min_samples_leaf': 8,\n",
       "   'estimator__max_depth': 10,\n",
       "   'estimator__bootstrap': True},\n",
       "  {'estimator__n_estimators': 300,\n",
       "   'estimator__min_samples_split': 20,\n",
       "   'estimator__min_samples_leaf': 12,\n",
       "   'estimator__max_depth': 6,\n",
       "   'estimator__bootstrap': True}],\n",
       " 'split0_test_score': array([-1.96141326, -2.09481481, -1.95996801, -1.9670217 , -2.00314735,\n",
       "        -1.96798627, -1.97219785, -1.96364834, -1.96690375, -1.9624612 ,\n",
       "        -2.11305759, -1.96538882, -1.96312951, -2.06069054, -2.20317983,\n",
       "        -1.96120458, -2.09629532, -2.00691354, -1.96475308, -1.97202419]),\n",
       " 'split1_test_score': array([-1.95047901, -2.09588135, -1.94784291, -1.9567924 , -1.99743287,\n",
       "        -1.95835199, -1.96132493, -1.95303336, -1.95616248, -1.95262301,\n",
       "        -2.10931402, -1.95422929, -1.95135996, -2.05372619, -2.21049336,\n",
       "        -1.95014803, -2.08828948, -2.00312564, -1.95388699, -1.961301  ]),\n",
       " 'split2_test_score': array([-1.97320189, -2.10985265, -1.96996176, -1.97914953, -2.01886183,\n",
       "        -1.9798753 , -1.9855983 , -1.97511261, -1.97983247, -1.97396875,\n",
       "        -2.13342787, -1.97640623, -1.97266163, -2.08039512, -2.21291255,\n",
       "        -1.97271988, -2.11698534, -2.02119579, -1.97541326, -1.98528586]),\n",
       " 'split3_test_score': array([-1.96563801, -2.10062129, -1.96340871, -1.97203399, -2.00127731,\n",
       "        -1.97358338, -1.9778098 , -1.96891505, -1.97238218, -1.96655056,\n",
       "        -2.11510142, -1.9698135 , -1.96681723, -2.06540477, -2.2029721 ,\n",
       "        -1.96428354, -2.09835749, -2.0061248 , -1.96937643, -1.97732406]),\n",
       " 'split4_test_score': array([-1.93560332, -2.05793807, -1.93276591, -1.94416043, -1.97676348,\n",
       "        -1.94432664, -1.95039581, -1.93808483, -1.94384822, -1.93689757,\n",
       "        -2.08870316, -1.94035542, -1.93659641, -2.03436656, -2.1800106 ,\n",
       "        -1.93484457, -2.07678425, -1.97638841, -1.93973803, -1.94983935]),\n",
       " 'mean_test_score': array([-1.9572671 , -2.09182163, -1.95478946, -1.96383161, -1.99949657,\n",
       "        -1.96482472, -1.96946534, -1.95975884, -1.96382582, -1.95850022,\n",
       "        -2.11192081, -1.96123865, -1.95811295, -2.05891663, -2.20191369,\n",
       "        -1.95664012, -2.09534237, -2.00274964, -1.96063356, -1.96915489]),\n",
       " 'std_test_score': array([0.01308876, 0.01775437, 0.0131499 , 0.01223601, 0.01350974,\n",
       "        0.01245228, 0.01238775, 0.01303609, 0.01262322, 0.01281397,\n",
       "        0.01428157, 0.01269683, 0.01281529, 0.01507458, 0.01163662,\n",
       "        0.01307676, 0.01321033, 0.01458798, 0.01260148, 0.01240927]),\n",
       " 'rank_test_score': array([ 3, 17,  1, 10, 14, 11, 13,  6,  9,  5, 19,  8,  4, 16, 20,  2, 18,\n",
       "        15,  7, 12], dtype=int32)}"
      ]
     },
     "execution_count": 34,
     "metadata": {},
     "output_type": "execute_result"
    }
   ],
   "source": [
    "clf.cv_results_"
   ]
  },
  {
   "cell_type": "code",
   "execution_count": 35,
   "id": "78f39253",
   "metadata": {},
   "outputs": [
    {
     "data": {
      "text/plain": [
       "-1.9547894595887"
      ]
     },
     "execution_count": 35,
     "metadata": {},
     "output_type": "execute_result"
    }
   ],
   "source": [
    "clf.best_score_"
   ]
  },
  {
   "cell_type": "code",
   "execution_count": 55,
   "id": "bf54469b",
   "metadata": {},
   "outputs": [],
   "source": [
    "params = clf.cv_results_['params']\n",
    "mean_test_score = clf.cv_results_['mean_test_score']\n",
    "rank_test_score = clf.cv_results_['rank_test_score']"
   ]
  },
  {
   "cell_type": "code",
   "execution_count": 73,
   "id": "26ec0935",
   "metadata": {},
   "outputs": [
    {
     "data": {
      "text/html": [
       "<div>\n",
       "<style scoped>\n",
       "    .dataframe tbody tr th:only-of-type {\n",
       "        vertical-align: middle;\n",
       "    }\n",
       "\n",
       "    .dataframe tbody tr th {\n",
       "        vertical-align: top;\n",
       "    }\n",
       "\n",
       "    .dataframe thead th {\n",
       "        text-align: right;\n",
       "    }\n",
       "</style>\n",
       "<table border=\"1\" class=\"dataframe\">\n",
       "  <thead>\n",
       "    <tr style=\"text-align: right;\">\n",
       "      <th></th>\n",
       "      <th>params</th>\n",
       "      <th>mean_test_score</th>\n",
       "      <th>rank_test_score</th>\n",
       "    </tr>\n",
       "  </thead>\n",
       "  <tbody>\n",
       "    <tr>\n",
       "      <th>2</th>\n",
       "      <td>{'estimator__n_estimators': 300, 'estimator__m...</td>\n",
       "      <td>-1.954789</td>\n",
       "      <td>1</td>\n",
       "    </tr>\n",
       "    <tr>\n",
       "      <th>15</th>\n",
       "      <td>{'estimator__n_estimators': 300, 'estimator__m...</td>\n",
       "      <td>-1.956640</td>\n",
       "      <td>2</td>\n",
       "    </tr>\n",
       "    <tr>\n",
       "      <th>0</th>\n",
       "      <td>{'estimator__n_estimators': 200, 'estimator__m...</td>\n",
       "      <td>-1.957267</td>\n",
       "      <td>3</td>\n",
       "    </tr>\n",
       "    <tr>\n",
       "      <th>12</th>\n",
       "      <td>{'estimator__n_estimators': 100, 'estimator__m...</td>\n",
       "      <td>-1.958113</td>\n",
       "      <td>4</td>\n",
       "    </tr>\n",
       "    <tr>\n",
       "      <th>9</th>\n",
       "      <td>{'estimator__n_estimators': 100, 'estimator__m...</td>\n",
       "      <td>-1.958500</td>\n",
       "      <td>5</td>\n",
       "    </tr>\n",
       "    <tr>\n",
       "      <th>7</th>\n",
       "      <td>{'estimator__n_estimators': 200, 'estimator__m...</td>\n",
       "      <td>-1.959759</td>\n",
       "      <td>6</td>\n",
       "    </tr>\n",
       "    <tr>\n",
       "      <th>18</th>\n",
       "      <td>{'estimator__n_estimators': 100, 'estimator__m...</td>\n",
       "      <td>-1.960634</td>\n",
       "      <td>7</td>\n",
       "    </tr>\n",
       "    <tr>\n",
       "      <th>11</th>\n",
       "      <td>{'estimator__n_estimators': 100, 'estimator__m...</td>\n",
       "      <td>-1.961239</td>\n",
       "      <td>8</td>\n",
       "    </tr>\n",
       "    <tr>\n",
       "      <th>8</th>\n",
       "      <td>{'estimator__n_estimators': 200, 'estimator__m...</td>\n",
       "      <td>-1.963826</td>\n",
       "      <td>9</td>\n",
       "    </tr>\n",
       "    <tr>\n",
       "      <th>3</th>\n",
       "      <td>{'estimator__n_estimators': 100, 'estimator__m...</td>\n",
       "      <td>-1.963832</td>\n",
       "      <td>10</td>\n",
       "    </tr>\n",
       "    <tr>\n",
       "      <th>5</th>\n",
       "      <td>{'estimator__n_estimators': 100, 'estimator__m...</td>\n",
       "      <td>-1.964825</td>\n",
       "      <td>11</td>\n",
       "    </tr>\n",
       "    <tr>\n",
       "      <th>19</th>\n",
       "      <td>{'estimator__n_estimators': 300, 'estimator__m...</td>\n",
       "      <td>-1.969155</td>\n",
       "      <td>12</td>\n",
       "    </tr>\n",
       "    <tr>\n",
       "      <th>6</th>\n",
       "      <td>{'estimator__n_estimators': 200, 'estimator__m...</td>\n",
       "      <td>-1.969465</td>\n",
       "      <td>13</td>\n",
       "    </tr>\n",
       "    <tr>\n",
       "      <th>4</th>\n",
       "      <td>{'estimator__n_estimators': 200, 'estimator__m...</td>\n",
       "      <td>-1.999497</td>\n",
       "      <td>14</td>\n",
       "    </tr>\n",
       "    <tr>\n",
       "      <th>17</th>\n",
       "      <td>{'estimator__n_estimators': 300, 'estimator__m...</td>\n",
       "      <td>-2.002750</td>\n",
       "      <td>15</td>\n",
       "    </tr>\n",
       "    <tr>\n",
       "      <th>13</th>\n",
       "      <td>{'estimator__n_estimators': 100, 'estimator__m...</td>\n",
       "      <td>-2.058917</td>\n",
       "      <td>16</td>\n",
       "    </tr>\n",
       "    <tr>\n",
       "      <th>1</th>\n",
       "      <td>{'estimator__n_estimators': 200, 'estimator__m...</td>\n",
       "      <td>-2.091822</td>\n",
       "      <td>17</td>\n",
       "    </tr>\n",
       "    <tr>\n",
       "      <th>16</th>\n",
       "      <td>{'estimator__n_estimators': 100, 'estimator__m...</td>\n",
       "      <td>-2.095342</td>\n",
       "      <td>18</td>\n",
       "    </tr>\n",
       "    <tr>\n",
       "      <th>10</th>\n",
       "      <td>{'estimator__n_estimators': 300, 'estimator__m...</td>\n",
       "      <td>-2.111921</td>\n",
       "      <td>19</td>\n",
       "    </tr>\n",
       "    <tr>\n",
       "      <th>14</th>\n",
       "      <td>{'estimator__n_estimators': 300, 'estimator__m...</td>\n",
       "      <td>-2.201914</td>\n",
       "      <td>20</td>\n",
       "    </tr>\n",
       "  </tbody>\n",
       "</table>\n",
       "</div>"
      ],
      "text/plain": [
       "                                               params  mean_test_score  \\\n",
       "2   {'estimator__n_estimators': 300, 'estimator__m...        -1.954789   \n",
       "15  {'estimator__n_estimators': 300, 'estimator__m...        -1.956640   \n",
       "0   {'estimator__n_estimators': 200, 'estimator__m...        -1.957267   \n",
       "12  {'estimator__n_estimators': 100, 'estimator__m...        -1.958113   \n",
       "9   {'estimator__n_estimators': 100, 'estimator__m...        -1.958500   \n",
       "7   {'estimator__n_estimators': 200, 'estimator__m...        -1.959759   \n",
       "18  {'estimator__n_estimators': 100, 'estimator__m...        -1.960634   \n",
       "11  {'estimator__n_estimators': 100, 'estimator__m...        -1.961239   \n",
       "8   {'estimator__n_estimators': 200, 'estimator__m...        -1.963826   \n",
       "3   {'estimator__n_estimators': 100, 'estimator__m...        -1.963832   \n",
       "5   {'estimator__n_estimators': 100, 'estimator__m...        -1.964825   \n",
       "19  {'estimator__n_estimators': 300, 'estimator__m...        -1.969155   \n",
       "6   {'estimator__n_estimators': 200, 'estimator__m...        -1.969465   \n",
       "4   {'estimator__n_estimators': 200, 'estimator__m...        -1.999497   \n",
       "17  {'estimator__n_estimators': 300, 'estimator__m...        -2.002750   \n",
       "13  {'estimator__n_estimators': 100, 'estimator__m...        -2.058917   \n",
       "1   {'estimator__n_estimators': 200, 'estimator__m...        -2.091822   \n",
       "16  {'estimator__n_estimators': 100, 'estimator__m...        -2.095342   \n",
       "10  {'estimator__n_estimators': 300, 'estimator__m...        -2.111921   \n",
       "14  {'estimator__n_estimators': 300, 'estimator__m...        -2.201914   \n",
       "\n",
       "    rank_test_score  \n",
       "2                 1  \n",
       "15                2  \n",
       "0                 3  \n",
       "12                4  \n",
       "9                 5  \n",
       "7                 6  \n",
       "18                7  \n",
       "11                8  \n",
       "8                 9  \n",
       "3                10  \n",
       "5                11  \n",
       "19               12  \n",
       "6                13  \n",
       "4                14  \n",
       "17               15  \n",
       "13               16  \n",
       "1                17  \n",
       "16               18  \n",
       "10               19  \n",
       "14               20  "
      ]
     },
     "execution_count": 73,
     "metadata": {},
     "output_type": "execute_result"
    }
   ],
   "source": [
    "clf_results = pd.DataFrame({\n",
    "    'params' : params,\n",
    "    'mean_test_score' : mean_test_score,\n",
    "    'rank_test_score' : rank_test_score});clf_results\n",
    "clf_results.sort_values(by=['rank_test_score'],inplace=True)\n",
    "clf_results"
   ]
  },
  {
   "cell_type": "code",
   "execution_count": 74,
   "id": "b4727b94",
   "metadata": {},
   "outputs": [
    {
     "data": {
      "text/plain": [
       "{'estimator__n_estimators': 300,\n",
       " 'estimator__min_samples_split': 16,\n",
       " 'estimator__min_samples_leaf': 8,\n",
       " 'estimator__max_depth': 30,\n",
       " 'estimator__bootstrap': True}"
      ]
     },
     "execution_count": 74,
     "metadata": {},
     "output_type": "execute_result"
    }
   ],
   "source": [
    "clf.best_params_"
   ]
  },
  {
   "cell_type": "markdown",
   "id": "669d4686",
   "metadata": {},
   "source": [
    "# Inferenece"
   ]
  },
  {
   "cell_type": "code",
   "execution_count": 38,
   "id": "17409f2c",
   "metadata": {},
   "outputs": [],
   "source": [
    "my_test = my_preprocessing(test)"
   ]
  },
  {
   "cell_type": "code",
   "execution_count": 40,
   "id": "3697a1b0",
   "metadata": {},
   "outputs": [
    {
     "data": {
      "text/plain": [
       "(39608, 48)"
      ]
     },
     "execution_count": 40,
     "metadata": {},
     "output_type": "execute_result"
    }
   ],
   "source": [
    "scaled_x = scaler.transform(my_test)\n",
    "scaled_x.shape"
   ]
  },
  {
   "cell_type": "code",
   "execution_count": 77,
   "id": "7d644777",
   "metadata": {},
   "outputs": [],
   "source": [
    "res = clf.predict(scaled_x)"
   ]
  },
  {
   "cell_type": "code",
   "execution_count": 80,
   "id": "b448ddce",
   "metadata": {},
   "outputs": [
    {
     "data": {
      "text/plain": [
       "Index(['ID', 'Y_01', 'Y_02', 'Y_03', 'Y_04', 'Y_05', 'Y_06', 'Y_07', 'Y_08',\n",
       "       'Y_09', 'Y_10', 'Y_11', 'Y_12', 'Y_13', 'Y_14'],\n",
       "      dtype='object')"
      ]
     },
     "execution_count": 80,
     "metadata": {},
     "output_type": "execute_result"
    }
   ],
   "source": [
    "label_names = submission.columns;label_names"
   ]
  },
  {
   "cell_type": "code",
   "execution_count": 84,
   "id": "554d4c38",
   "metadata": {},
   "outputs": [],
   "source": [
    "submit = pd.concat([submission[['ID']],pd.DataFrame(res)],axis=1)\n",
    "submit.columns = label_names\n",
    "submit.to_csv('m0818.csv', index=False)"
   ]
  },
  {
   "cell_type": "code",
   "execution_count": null,
   "id": "5ac64d00",
   "metadata": {},
   "outputs": [],
   "source": []
  }
 ],
 "metadata": {
  "kernelspec": {
   "display_name": "Python 3 (ipykernel)",
   "language": "python",
   "name": "python3"
  },
  "language_info": {
   "codemirror_mode": {
    "name": "ipython",
    "version": 3
   },
   "file_extension": ".py",
   "mimetype": "text/x-python",
   "name": "python",
   "nbconvert_exporter": "python",
   "pygments_lexer": "ipython3",
   "version": "3.8.10"
  }
 },
 "nbformat": 4,
 "nbformat_minor": 5
}

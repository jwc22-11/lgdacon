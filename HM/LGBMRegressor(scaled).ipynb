{
  "cells": [
    {
      "cell_type": "markdown",
      "metadata": {
        "id": "view-in-github",
        "colab_type": "text"
      },
      "source": [
        "<a href=\"https://colab.research.google.com/github/jwc22-11/lgdacon/blob/main/HM/LGBMRegressor(scaled).ipynb\" target=\"_parent\"><img src=\"https://colab.research.google.com/assets/colab-badge.svg\" alt=\"Open In Colab\"/></a>"
      ]
    },
    {
      "cell_type": "code",
      "execution_count": 1,
      "metadata": {
        "id": "ymkt9rwknGdB"
      },
      "outputs": [],
      "source": [
        "import pandas as pd\n",
        "import random\n",
        "import os\n",
        "import numpy as np\n",
        "\n",
        "from sklearn.linear_model import LinearRegression\n",
        "from sklearn.multioutput import MultiOutputRegressor\n",
        "from lightgbm import LGBMRegressor\n",
        "from sklearn.model_selection import KFold\n",
        "from sklearn.preprocessing import StandardScaler\n",
        "from sklearn.model_selection import train_test_split\n",
        "from sklearn.model_selection import RandomizedSearchCV\n",
        "import sklearn.metrics as metrics\n",
        "from sklearn.metrics import make_scorer\n",
        "from sklearn.metrics import mean_squared_error\n",
        "\n",
        "from sklearn.preprocessing import PolynomialFeatures"
      ]
    },
    {
      "cell_type": "code",
      "execution_count": 2,
      "metadata": {
        "id": "Ng_U0O1VnQAJ"
      },
      "outputs": [],
      "source": [
        "def seed_everything(seed):\n",
        "    random.seed(seed)\n",
        "    os.environ['PYTHONHASHSEED'] = str(seed)\n",
        "    np.random.seed(seed)\n",
        "seed_everything(42) # Seed 고정"
      ]
    },
    {
      "cell_type": "code",
      "execution_count": 3,
      "metadata": {
        "id": "SLKVV6vInjEE"
      },
      "outputs": [],
      "source": [
        "def lg_nrmse(gt, preds):\n",
        "    # 각 Y Feature별 NRMSE 총합\n",
        "    # Y_01 ~ Y_08 까지 20% 가중치 부여\n",
        "    all_nrmse = []\n",
        "    for idx in range(14): # ignore 'ID'\n",
        "        rmse = metrics.mean_squared_error(gt[:,idx], preds[:,idx], squared=False)\n",
        "        nrmse = rmse/np.mean(np.abs(gt[:,idx]))\n",
        "        all_nrmse.append(nrmse)\n",
        "    score = 1.2 * np.sum(all_nrmse[:8]) + 1.0 * np.sum(all_nrmse[8:14])\n",
        "    return score"
      ]
    },
    {
      "cell_type": "code",
      "execution_count": 4,
      "metadata": {
        "colab": {
          "base_uri": "https://localhost:8080/"
        },
        "id": "3UGMDAinnQOh",
        "outputId": "3913c7f4-309e-4611-fe72-12953ebaeb38"
      },
      "outputs": [
        {
          "output_type": "stream",
          "name": "stdout",
          "text": [
            "\u001b[0m\u001b[01;34msample_data\u001b[0m/\n"
          ]
        }
      ],
      "source": [
        "%ls"
      ]
    },
    {
      "cell_type": "code",
      "execution_count": 7,
      "metadata": {
        "id": "GlvtNYuInQRf"
      },
      "outputs": [],
      "source": [
        "train_df = pd.read_csv('train.csv').drop(columns=['ID'])\n",
        "test_df = pd.read_csv('test.csv').drop(columns=['ID'])"
      ]
    },
    {
      "cell_type": "code",
      "execution_count": 8,
      "metadata": {
        "colab": {
          "base_uri": "https://localhost:8080/",
          "height": 483
        },
        "id": "lLarPDEjnQVr",
        "outputId": "0da3a6d7-3d89-4913-c762-5c15effbdc4b"
      },
      "outputs": [
        {
          "output_type": "execute_result",
          "data": {
            "text/plain": [
              "         X_01     X_02   X_03  X_04     X_05    X_06   X_07    X_08    X_09  \\\n",
              "0      70.544  103.320  67.47     1  101.892  74.983  29.45   62.38  245.71   \n",
              "1      69.524  103.321  65.17     1  101.944  72.943  28.73   61.23  233.61   \n",
              "2      72.583  103.320  64.07     1  103.153  72.943  28.81  105.77  272.20   \n",
              "3      71.563  103.320  67.57     1  101.971  77.022  28.92  115.21  255.36   \n",
              "4      69.524  103.320  63.57     1  101.981  70.904  29.68  103.38  241.46   \n",
              "...       ...      ...    ...   ...      ...     ...    ...     ...     ...   \n",
              "39602  66.465  103.320  62.27     1  103.150  66.825  30.20   77.83  298.05   \n",
              "39603  66.465  103.321  62.77     1  102.021  66.825  29.21  102.25  270.67   \n",
              "39604  68.504  103.320  64.67     1  103.144  68.864  29.96  102.61  198.07   \n",
              "39605  66.465  103.320  63.67     1  102.025  67.845  30.30  112.60  275.52   \n",
              "39606  66.465  103.320  65.67     1  102.004  69.884  30.16  112.90  276.06   \n",
              "\n",
              "       X_10  ...    Y_05    Y_06   Y_07    Y_08    Y_09    Y_10    Y_11  \\\n",
              "0       0.0  ...  29.632  16.083  4.276 -25.381 -25.529 -22.769  23.792   \n",
              "1       0.0  ...  33.179  16.736  3.229 -26.619 -26.523 -22.574  24.691   \n",
              "2       0.0  ...  31.801  17.080  2.839 -26.238 -26.216 -22.169  24.649   \n",
              "3       0.0  ...  34.503  17.143  3.144 -25.426 -25.079 -21.765  24.913   \n",
              "4       0.0  ...  32.602  17.569  3.138 -25.376 -25.242 -21.072  25.299   \n",
              "...     ...  ...     ...     ...    ...     ...     ...     ...     ...   \n",
              "39602   0.0  ...  29.194  16.582  3.410 -26.486 -26.581 -22.772  24.261   \n",
              "39603   0.0  ...  29.859  15.659  3.406 -27.308 -27.203 -24.674  23.427   \n",
              "39604   0.0  ...  24.720  16.823  3.215 -26.502 -26.687 -22.577  24.301   \n",
              "39605   0.0  ...  26.412  15.757  4.216 -26.760 -26.634 -24.066  23.305   \n",
              "39606   0.0  ...  30.745  16.781  3.307 -26.054 -26.251 -23.257  24.450   \n",
              "\n",
              "         Y_12    Y_13    Y_14  \n",
              "0     -25.470 -25.409 -25.304  \n",
              "1     -26.253 -26.497 -26.438  \n",
              "2     -26.285 -26.215 -26.370  \n",
              "3     -25.254 -25.021 -25.345  \n",
              "4     -25.072 -25.195 -24.974  \n",
              "...       ...     ...     ...  \n",
              "39602 -26.491 -26.584 -26.580  \n",
              "39603 -27.250 -27.334 -27.325  \n",
              "39604 -26.388 -26.425 -26.601  \n",
              "39605 -26.536 -26.751 -26.635  \n",
              "39606 -26.224 -26.256 -26.093  \n",
              "\n",
              "[39607 rows x 70 columns]"
            ],
            "text/html": [
              "\n",
              "  <div id=\"df-01bd4050-7be8-467f-a858-60851429c0de\">\n",
              "    <div class=\"colab-df-container\">\n",
              "      <div>\n",
              "<style scoped>\n",
              "    .dataframe tbody tr th:only-of-type {\n",
              "        vertical-align: middle;\n",
              "    }\n",
              "\n",
              "    .dataframe tbody tr th {\n",
              "        vertical-align: top;\n",
              "    }\n",
              "\n",
              "    .dataframe thead th {\n",
              "        text-align: right;\n",
              "    }\n",
              "</style>\n",
              "<table border=\"1\" class=\"dataframe\">\n",
              "  <thead>\n",
              "    <tr style=\"text-align: right;\">\n",
              "      <th></th>\n",
              "      <th>X_01</th>\n",
              "      <th>X_02</th>\n",
              "      <th>X_03</th>\n",
              "      <th>X_04</th>\n",
              "      <th>X_05</th>\n",
              "      <th>X_06</th>\n",
              "      <th>X_07</th>\n",
              "      <th>X_08</th>\n",
              "      <th>X_09</th>\n",
              "      <th>X_10</th>\n",
              "      <th>...</th>\n",
              "      <th>Y_05</th>\n",
              "      <th>Y_06</th>\n",
              "      <th>Y_07</th>\n",
              "      <th>Y_08</th>\n",
              "      <th>Y_09</th>\n",
              "      <th>Y_10</th>\n",
              "      <th>Y_11</th>\n",
              "      <th>Y_12</th>\n",
              "      <th>Y_13</th>\n",
              "      <th>Y_14</th>\n",
              "    </tr>\n",
              "  </thead>\n",
              "  <tbody>\n",
              "    <tr>\n",
              "      <th>0</th>\n",
              "      <td>70.544</td>\n",
              "      <td>103.320</td>\n",
              "      <td>67.47</td>\n",
              "      <td>1</td>\n",
              "      <td>101.892</td>\n",
              "      <td>74.983</td>\n",
              "      <td>29.45</td>\n",
              "      <td>62.38</td>\n",
              "      <td>245.71</td>\n",
              "      <td>0.0</td>\n",
              "      <td>...</td>\n",
              "      <td>29.632</td>\n",
              "      <td>16.083</td>\n",
              "      <td>4.276</td>\n",
              "      <td>-25.381</td>\n",
              "      <td>-25.529</td>\n",
              "      <td>-22.769</td>\n",
              "      <td>23.792</td>\n",
              "      <td>-25.470</td>\n",
              "      <td>-25.409</td>\n",
              "      <td>-25.304</td>\n",
              "    </tr>\n",
              "    <tr>\n",
              "      <th>1</th>\n",
              "      <td>69.524</td>\n",
              "      <td>103.321</td>\n",
              "      <td>65.17</td>\n",
              "      <td>1</td>\n",
              "      <td>101.944</td>\n",
              "      <td>72.943</td>\n",
              "      <td>28.73</td>\n",
              "      <td>61.23</td>\n",
              "      <td>233.61</td>\n",
              "      <td>0.0</td>\n",
              "      <td>...</td>\n",
              "      <td>33.179</td>\n",
              "      <td>16.736</td>\n",
              "      <td>3.229</td>\n",
              "      <td>-26.619</td>\n",
              "      <td>-26.523</td>\n",
              "      <td>-22.574</td>\n",
              "      <td>24.691</td>\n",
              "      <td>-26.253</td>\n",
              "      <td>-26.497</td>\n",
              "      <td>-26.438</td>\n",
              "    </tr>\n",
              "    <tr>\n",
              "      <th>2</th>\n",
              "      <td>72.583</td>\n",
              "      <td>103.320</td>\n",
              "      <td>64.07</td>\n",
              "      <td>1</td>\n",
              "      <td>103.153</td>\n",
              "      <td>72.943</td>\n",
              "      <td>28.81</td>\n",
              "      <td>105.77</td>\n",
              "      <td>272.20</td>\n",
              "      <td>0.0</td>\n",
              "      <td>...</td>\n",
              "      <td>31.801</td>\n",
              "      <td>17.080</td>\n",
              "      <td>2.839</td>\n",
              "      <td>-26.238</td>\n",
              "      <td>-26.216</td>\n",
              "      <td>-22.169</td>\n",
              "      <td>24.649</td>\n",
              "      <td>-26.285</td>\n",
              "      <td>-26.215</td>\n",
              "      <td>-26.370</td>\n",
              "    </tr>\n",
              "    <tr>\n",
              "      <th>3</th>\n",
              "      <td>71.563</td>\n",
              "      <td>103.320</td>\n",
              "      <td>67.57</td>\n",
              "      <td>1</td>\n",
              "      <td>101.971</td>\n",
              "      <td>77.022</td>\n",
              "      <td>28.92</td>\n",
              "      <td>115.21</td>\n",
              "      <td>255.36</td>\n",
              "      <td>0.0</td>\n",
              "      <td>...</td>\n",
              "      <td>34.503</td>\n",
              "      <td>17.143</td>\n",
              "      <td>3.144</td>\n",
              "      <td>-25.426</td>\n",
              "      <td>-25.079</td>\n",
              "      <td>-21.765</td>\n",
              "      <td>24.913</td>\n",
              "      <td>-25.254</td>\n",
              "      <td>-25.021</td>\n",
              "      <td>-25.345</td>\n",
              "    </tr>\n",
              "    <tr>\n",
              "      <th>4</th>\n",
              "      <td>69.524</td>\n",
              "      <td>103.320</td>\n",
              "      <td>63.57</td>\n",
              "      <td>1</td>\n",
              "      <td>101.981</td>\n",
              "      <td>70.904</td>\n",
              "      <td>29.68</td>\n",
              "      <td>103.38</td>\n",
              "      <td>241.46</td>\n",
              "      <td>0.0</td>\n",
              "      <td>...</td>\n",
              "      <td>32.602</td>\n",
              "      <td>17.569</td>\n",
              "      <td>3.138</td>\n",
              "      <td>-25.376</td>\n",
              "      <td>-25.242</td>\n",
              "      <td>-21.072</td>\n",
              "      <td>25.299</td>\n",
              "      <td>-25.072</td>\n",
              "      <td>-25.195</td>\n",
              "      <td>-24.974</td>\n",
              "    </tr>\n",
              "    <tr>\n",
              "      <th>...</th>\n",
              "      <td>...</td>\n",
              "      <td>...</td>\n",
              "      <td>...</td>\n",
              "      <td>...</td>\n",
              "      <td>...</td>\n",
              "      <td>...</td>\n",
              "      <td>...</td>\n",
              "      <td>...</td>\n",
              "      <td>...</td>\n",
              "      <td>...</td>\n",
              "      <td>...</td>\n",
              "      <td>...</td>\n",
              "      <td>...</td>\n",
              "      <td>...</td>\n",
              "      <td>...</td>\n",
              "      <td>...</td>\n",
              "      <td>...</td>\n",
              "      <td>...</td>\n",
              "      <td>...</td>\n",
              "      <td>...</td>\n",
              "      <td>...</td>\n",
              "    </tr>\n",
              "    <tr>\n",
              "      <th>39602</th>\n",
              "      <td>66.465</td>\n",
              "      <td>103.320</td>\n",
              "      <td>62.27</td>\n",
              "      <td>1</td>\n",
              "      <td>103.150</td>\n",
              "      <td>66.825</td>\n",
              "      <td>30.20</td>\n",
              "      <td>77.83</td>\n",
              "      <td>298.05</td>\n",
              "      <td>0.0</td>\n",
              "      <td>...</td>\n",
              "      <td>29.194</td>\n",
              "      <td>16.582</td>\n",
              "      <td>3.410</td>\n",
              "      <td>-26.486</td>\n",
              "      <td>-26.581</td>\n",
              "      <td>-22.772</td>\n",
              "      <td>24.261</td>\n",
              "      <td>-26.491</td>\n",
              "      <td>-26.584</td>\n",
              "      <td>-26.580</td>\n",
              "    </tr>\n",
              "    <tr>\n",
              "      <th>39603</th>\n",
              "      <td>66.465</td>\n",
              "      <td>103.321</td>\n",
              "      <td>62.77</td>\n",
              "      <td>1</td>\n",
              "      <td>102.021</td>\n",
              "      <td>66.825</td>\n",
              "      <td>29.21</td>\n",
              "      <td>102.25</td>\n",
              "      <td>270.67</td>\n",
              "      <td>0.0</td>\n",
              "      <td>...</td>\n",
              "      <td>29.859</td>\n",
              "      <td>15.659</td>\n",
              "      <td>3.406</td>\n",
              "      <td>-27.308</td>\n",
              "      <td>-27.203</td>\n",
              "      <td>-24.674</td>\n",
              "      <td>23.427</td>\n",
              "      <td>-27.250</td>\n",
              "      <td>-27.334</td>\n",
              "      <td>-27.325</td>\n",
              "    </tr>\n",
              "    <tr>\n",
              "      <th>39604</th>\n",
              "      <td>68.504</td>\n",
              "      <td>103.320</td>\n",
              "      <td>64.67</td>\n",
              "      <td>1</td>\n",
              "      <td>103.144</td>\n",
              "      <td>68.864</td>\n",
              "      <td>29.96</td>\n",
              "      <td>102.61</td>\n",
              "      <td>198.07</td>\n",
              "      <td>0.0</td>\n",
              "      <td>...</td>\n",
              "      <td>24.720</td>\n",
              "      <td>16.823</td>\n",
              "      <td>3.215</td>\n",
              "      <td>-26.502</td>\n",
              "      <td>-26.687</td>\n",
              "      <td>-22.577</td>\n",
              "      <td>24.301</td>\n",
              "      <td>-26.388</td>\n",
              "      <td>-26.425</td>\n",
              "      <td>-26.601</td>\n",
              "    </tr>\n",
              "    <tr>\n",
              "      <th>39605</th>\n",
              "      <td>66.465</td>\n",
              "      <td>103.320</td>\n",
              "      <td>63.67</td>\n",
              "      <td>1</td>\n",
              "      <td>102.025</td>\n",
              "      <td>67.845</td>\n",
              "      <td>30.30</td>\n",
              "      <td>112.60</td>\n",
              "      <td>275.52</td>\n",
              "      <td>0.0</td>\n",
              "      <td>...</td>\n",
              "      <td>26.412</td>\n",
              "      <td>15.757</td>\n",
              "      <td>4.216</td>\n",
              "      <td>-26.760</td>\n",
              "      <td>-26.634</td>\n",
              "      <td>-24.066</td>\n",
              "      <td>23.305</td>\n",
              "      <td>-26.536</td>\n",
              "      <td>-26.751</td>\n",
              "      <td>-26.635</td>\n",
              "    </tr>\n",
              "    <tr>\n",
              "      <th>39606</th>\n",
              "      <td>66.465</td>\n",
              "      <td>103.320</td>\n",
              "      <td>65.67</td>\n",
              "      <td>1</td>\n",
              "      <td>102.004</td>\n",
              "      <td>69.884</td>\n",
              "      <td>30.16</td>\n",
              "      <td>112.90</td>\n",
              "      <td>276.06</td>\n",
              "      <td>0.0</td>\n",
              "      <td>...</td>\n",
              "      <td>30.745</td>\n",
              "      <td>16.781</td>\n",
              "      <td>3.307</td>\n",
              "      <td>-26.054</td>\n",
              "      <td>-26.251</td>\n",
              "      <td>-23.257</td>\n",
              "      <td>24.450</td>\n",
              "      <td>-26.224</td>\n",
              "      <td>-26.256</td>\n",
              "      <td>-26.093</td>\n",
              "    </tr>\n",
              "  </tbody>\n",
              "</table>\n",
              "<p>39607 rows × 70 columns</p>\n",
              "</div>\n",
              "      <button class=\"colab-df-convert\" onclick=\"convertToInteractive('df-01bd4050-7be8-467f-a858-60851429c0de')\"\n",
              "              title=\"Convert this dataframe to an interactive table.\"\n",
              "              style=\"display:none;\">\n",
              "        \n",
              "  <svg xmlns=\"http://www.w3.org/2000/svg\" height=\"24px\"viewBox=\"0 0 24 24\"\n",
              "       width=\"24px\">\n",
              "    <path d=\"M0 0h24v24H0V0z\" fill=\"none\"/>\n",
              "    <path d=\"M18.56 5.44l.94 2.06.94-2.06 2.06-.94-2.06-.94-.94-2.06-.94 2.06-2.06.94zm-11 1L8.5 8.5l.94-2.06 2.06-.94-2.06-.94L8.5 2.5l-.94 2.06-2.06.94zm10 10l.94 2.06.94-2.06 2.06-.94-2.06-.94-.94-2.06-.94 2.06-2.06.94z\"/><path d=\"M17.41 7.96l-1.37-1.37c-.4-.4-.92-.59-1.43-.59-.52 0-1.04.2-1.43.59L10.3 9.45l-7.72 7.72c-.78.78-.78 2.05 0 2.83L4 21.41c.39.39.9.59 1.41.59.51 0 1.02-.2 1.41-.59l7.78-7.78 2.81-2.81c.8-.78.8-2.07 0-2.86zM5.41 20L4 18.59l7.72-7.72 1.47 1.35L5.41 20z\"/>\n",
              "  </svg>\n",
              "      </button>\n",
              "      \n",
              "  <style>\n",
              "    .colab-df-container {\n",
              "      display:flex;\n",
              "      flex-wrap:wrap;\n",
              "      gap: 12px;\n",
              "    }\n",
              "\n",
              "    .colab-df-convert {\n",
              "      background-color: #E8F0FE;\n",
              "      border: none;\n",
              "      border-radius: 50%;\n",
              "      cursor: pointer;\n",
              "      display: none;\n",
              "      fill: #1967D2;\n",
              "      height: 32px;\n",
              "      padding: 0 0 0 0;\n",
              "      width: 32px;\n",
              "    }\n",
              "\n",
              "    .colab-df-convert:hover {\n",
              "      background-color: #E2EBFA;\n",
              "      box-shadow: 0px 1px 2px rgba(60, 64, 67, 0.3), 0px 1px 3px 1px rgba(60, 64, 67, 0.15);\n",
              "      fill: #174EA6;\n",
              "    }\n",
              "\n",
              "    [theme=dark] .colab-df-convert {\n",
              "      background-color: #3B4455;\n",
              "      fill: #D2E3FC;\n",
              "    }\n",
              "\n",
              "    [theme=dark] .colab-df-convert:hover {\n",
              "      background-color: #434B5C;\n",
              "      box-shadow: 0px 1px 3px 1px rgba(0, 0, 0, 0.15);\n",
              "      filter: drop-shadow(0px 1px 2px rgba(0, 0, 0, 0.3));\n",
              "      fill: #FFFFFF;\n",
              "    }\n",
              "  </style>\n",
              "\n",
              "      <script>\n",
              "        const buttonEl =\n",
              "          document.querySelector('#df-01bd4050-7be8-467f-a858-60851429c0de button.colab-df-convert');\n",
              "        buttonEl.style.display =\n",
              "          google.colab.kernel.accessAllowed ? 'block' : 'none';\n",
              "\n",
              "        async function convertToInteractive(key) {\n",
              "          const element = document.querySelector('#df-01bd4050-7be8-467f-a858-60851429c0de');\n",
              "          const dataTable =\n",
              "            await google.colab.kernel.invokeFunction('convertToInteractive',\n",
              "                                                     [key], {});\n",
              "          if (!dataTable) return;\n",
              "\n",
              "          const docLinkHtml = 'Like what you see? Visit the ' +\n",
              "            '<a target=\"_blank\" href=https://colab.research.google.com/notebooks/data_table.ipynb>data table notebook</a>'\n",
              "            + ' to learn more about interactive tables.';\n",
              "          element.innerHTML = '';\n",
              "          dataTable['output_type'] = 'display_data';\n",
              "          await google.colab.output.renderOutput(dataTable, element);\n",
              "          const docLink = document.createElement('div');\n",
              "          docLink.innerHTML = docLinkHtml;\n",
              "          element.appendChild(docLink);\n",
              "        }\n",
              "      </script>\n",
              "    </div>\n",
              "  </div>\n",
              "  "
            ]
          },
          "metadata": {},
          "execution_count": 8
        }
      ],
      "source": [
        "train_df"
      ]
    },
    {
      "cell_type": "code",
      "source": [
        "test_df"
      ],
      "metadata": {
        "colab": {
          "base_uri": "https://localhost:8080/",
          "height": 483
        },
        "id": "9X49AsGyvceL",
        "outputId": "24c4a6d2-d044-4066-df64-78487e1c29bd"
      },
      "execution_count": 9,
      "outputs": [
        {
          "output_type": "execute_result",
          "data": {
            "text/plain": [
              "         X_01     X_02   X_03  X_04     X_05    X_06   X_07    X_08    X_09  \\\n",
              "0      68.504  103.321  76.67     1  101.867  73.963  30.51   63.57  239.80   \n",
              "1      67.485  103.320  69.37     1  101.992  67.845  28.03  116.99  189.23   \n",
              "2      69.524  103.320  68.97     1  101.884  77.022  29.65  205.68  214.93   \n",
              "3      69.524  103.320  65.87     1  101.866  73.963  28.15  103.38  180.80   \n",
              "4      73.603  103.321  66.67     1  101.891  74.983  29.92   71.20  231.93   \n",
              "...       ...      ...    ...   ...      ...     ...    ...     ...     ...   \n",
              "39603  68.504  103.320  63.97     1  103.157  68.864  29.49  116.35  284.16   \n",
              "39604  68.504  103.320  61.37     1  103.137  68.864  32.29  116.28  272.41   \n",
              "39605  69.524  103.320  63.67     1  103.149  69.884  30.00  113.05  295.54   \n",
              "39606  67.485  103.321  61.77     1  103.148  67.845  32.05  115.05  267.26   \n",
              "39607  71.563  103.320  63.07     1  103.158  71.923  31.14  102.22  215.85   \n",
              "\n",
              "       X_10  ...  X_47  X_48      X_49        X_50        X_51        X_52  \\\n",
              "0       0.0  ...     1     1  17227.63  138.130429  129.460682  141.506570   \n",
              "1       0.0  ...     1     1  17134.53  136.148839  128.266277  145.911745   \n",
              "2       0.0  ...     1     1  14860.83  120.447446  119.988804  132.099908   \n",
              "3       0.0  ...     1     1  15252.53  133.994695  125.069180  147.507669   \n",
              "4       0.0  ...     1     1  10752.23  137.918202  135.116192  138.600473   \n",
              "...     ...  ...   ...   ...       ...         ...         ...         ...   \n",
              "39603   0.0  ...     1     1  62123.53  127.741246  126.494312  139.119905   \n",
              "39604   0.0  ...     1     1  61844.13  127.767377  124.062809  138.238664   \n",
              "39605   0.0  ...     1     1  60277.53  128.593640  124.774037  138.659624   \n",
              "39606   0.0  ...     1     1  60236.73  121.110646  125.471699  134.989984   \n",
              "39607   0.0  ...     1     1  60680.73  134.263593  129.765515  139.681833   \n",
              "\n",
              "             X_53        X_54        X_55        X_56  \n",
              "0      133.427229  129.711498  133.138096  121.859684  \n",
              "1      131.196417  132.411480  133.629025  124.178623  \n",
              "2      120.450155  130.051708  128.252972  114.475628  \n",
              "3      123.142653  125.963665  139.666592  126.589253  \n",
              "4      127.173033  137.252712  134.411335  124.020016  \n",
              "...           ...         ...         ...         ...  \n",
              "39603  125.271109  128.284572  140.176945  128.292843  \n",
              "39604  119.879393  127.322529  137.312047  131.570614  \n",
              "39605  123.999571  126.075542  135.656132  127.671108  \n",
              "39606  120.889578  129.296909  132.673977  131.882893  \n",
              "39607  128.243391  131.757923  139.903401  121.479191  \n",
              "\n",
              "[39608 rows x 56 columns]"
            ],
            "text/html": [
              "\n",
              "  <div id=\"df-b934df87-e998-451e-bd3f-fe58244a2742\">\n",
              "    <div class=\"colab-df-container\">\n",
              "      <div>\n",
              "<style scoped>\n",
              "    .dataframe tbody tr th:only-of-type {\n",
              "        vertical-align: middle;\n",
              "    }\n",
              "\n",
              "    .dataframe tbody tr th {\n",
              "        vertical-align: top;\n",
              "    }\n",
              "\n",
              "    .dataframe thead th {\n",
              "        text-align: right;\n",
              "    }\n",
              "</style>\n",
              "<table border=\"1\" class=\"dataframe\">\n",
              "  <thead>\n",
              "    <tr style=\"text-align: right;\">\n",
              "      <th></th>\n",
              "      <th>X_01</th>\n",
              "      <th>X_02</th>\n",
              "      <th>X_03</th>\n",
              "      <th>X_04</th>\n",
              "      <th>X_05</th>\n",
              "      <th>X_06</th>\n",
              "      <th>X_07</th>\n",
              "      <th>X_08</th>\n",
              "      <th>X_09</th>\n",
              "      <th>X_10</th>\n",
              "      <th>...</th>\n",
              "      <th>X_47</th>\n",
              "      <th>X_48</th>\n",
              "      <th>X_49</th>\n",
              "      <th>X_50</th>\n",
              "      <th>X_51</th>\n",
              "      <th>X_52</th>\n",
              "      <th>X_53</th>\n",
              "      <th>X_54</th>\n",
              "      <th>X_55</th>\n",
              "      <th>X_56</th>\n",
              "    </tr>\n",
              "  </thead>\n",
              "  <tbody>\n",
              "    <tr>\n",
              "      <th>0</th>\n",
              "      <td>68.504</td>\n",
              "      <td>103.321</td>\n",
              "      <td>76.67</td>\n",
              "      <td>1</td>\n",
              "      <td>101.867</td>\n",
              "      <td>73.963</td>\n",
              "      <td>30.51</td>\n",
              "      <td>63.57</td>\n",
              "      <td>239.80</td>\n",
              "      <td>0.0</td>\n",
              "      <td>...</td>\n",
              "      <td>1</td>\n",
              "      <td>1</td>\n",
              "      <td>17227.63</td>\n",
              "      <td>138.130429</td>\n",
              "      <td>129.460682</td>\n",
              "      <td>141.506570</td>\n",
              "      <td>133.427229</td>\n",
              "      <td>129.711498</td>\n",
              "      <td>133.138096</td>\n",
              "      <td>121.859684</td>\n",
              "    </tr>\n",
              "    <tr>\n",
              "      <th>1</th>\n",
              "      <td>67.485</td>\n",
              "      <td>103.320</td>\n",
              "      <td>69.37</td>\n",
              "      <td>1</td>\n",
              "      <td>101.992</td>\n",
              "      <td>67.845</td>\n",
              "      <td>28.03</td>\n",
              "      <td>116.99</td>\n",
              "      <td>189.23</td>\n",
              "      <td>0.0</td>\n",
              "      <td>...</td>\n",
              "      <td>1</td>\n",
              "      <td>1</td>\n",
              "      <td>17134.53</td>\n",
              "      <td>136.148839</td>\n",
              "      <td>128.266277</td>\n",
              "      <td>145.911745</td>\n",
              "      <td>131.196417</td>\n",
              "      <td>132.411480</td>\n",
              "      <td>133.629025</td>\n",
              "      <td>124.178623</td>\n",
              "    </tr>\n",
              "    <tr>\n",
              "      <th>2</th>\n",
              "      <td>69.524</td>\n",
              "      <td>103.320</td>\n",
              "      <td>68.97</td>\n",
              "      <td>1</td>\n",
              "      <td>101.884</td>\n",
              "      <td>77.022</td>\n",
              "      <td>29.65</td>\n",
              "      <td>205.68</td>\n",
              "      <td>214.93</td>\n",
              "      <td>0.0</td>\n",
              "      <td>...</td>\n",
              "      <td>1</td>\n",
              "      <td>1</td>\n",
              "      <td>14860.83</td>\n",
              "      <td>120.447446</td>\n",
              "      <td>119.988804</td>\n",
              "      <td>132.099908</td>\n",
              "      <td>120.450155</td>\n",
              "      <td>130.051708</td>\n",
              "      <td>128.252972</td>\n",
              "      <td>114.475628</td>\n",
              "    </tr>\n",
              "    <tr>\n",
              "      <th>3</th>\n",
              "      <td>69.524</td>\n",
              "      <td>103.320</td>\n",
              "      <td>65.87</td>\n",
              "      <td>1</td>\n",
              "      <td>101.866</td>\n",
              "      <td>73.963</td>\n",
              "      <td>28.15</td>\n",
              "      <td>103.38</td>\n",
              "      <td>180.80</td>\n",
              "      <td>0.0</td>\n",
              "      <td>...</td>\n",
              "      <td>1</td>\n",
              "      <td>1</td>\n",
              "      <td>15252.53</td>\n",
              "      <td>133.994695</td>\n",
              "      <td>125.069180</td>\n",
              "      <td>147.507669</td>\n",
              "      <td>123.142653</td>\n",
              "      <td>125.963665</td>\n",
              "      <td>139.666592</td>\n",
              "      <td>126.589253</td>\n",
              "    </tr>\n",
              "    <tr>\n",
              "      <th>4</th>\n",
              "      <td>73.603</td>\n",
              "      <td>103.321</td>\n",
              "      <td>66.67</td>\n",
              "      <td>1</td>\n",
              "      <td>101.891</td>\n",
              "      <td>74.983</td>\n",
              "      <td>29.92</td>\n",
              "      <td>71.20</td>\n",
              "      <td>231.93</td>\n",
              "      <td>0.0</td>\n",
              "      <td>...</td>\n",
              "      <td>1</td>\n",
              "      <td>1</td>\n",
              "      <td>10752.23</td>\n",
              "      <td>137.918202</td>\n",
              "      <td>135.116192</td>\n",
              "      <td>138.600473</td>\n",
              "      <td>127.173033</td>\n",
              "      <td>137.252712</td>\n",
              "      <td>134.411335</td>\n",
              "      <td>124.020016</td>\n",
              "    </tr>\n",
              "    <tr>\n",
              "      <th>...</th>\n",
              "      <td>...</td>\n",
              "      <td>...</td>\n",
              "      <td>...</td>\n",
              "      <td>...</td>\n",
              "      <td>...</td>\n",
              "      <td>...</td>\n",
              "      <td>...</td>\n",
              "      <td>...</td>\n",
              "      <td>...</td>\n",
              "      <td>...</td>\n",
              "      <td>...</td>\n",
              "      <td>...</td>\n",
              "      <td>...</td>\n",
              "      <td>...</td>\n",
              "      <td>...</td>\n",
              "      <td>...</td>\n",
              "      <td>...</td>\n",
              "      <td>...</td>\n",
              "      <td>...</td>\n",
              "      <td>...</td>\n",
              "      <td>...</td>\n",
              "    </tr>\n",
              "    <tr>\n",
              "      <th>39603</th>\n",
              "      <td>68.504</td>\n",
              "      <td>103.320</td>\n",
              "      <td>63.97</td>\n",
              "      <td>1</td>\n",
              "      <td>103.157</td>\n",
              "      <td>68.864</td>\n",
              "      <td>29.49</td>\n",
              "      <td>116.35</td>\n",
              "      <td>284.16</td>\n",
              "      <td>0.0</td>\n",
              "      <td>...</td>\n",
              "      <td>1</td>\n",
              "      <td>1</td>\n",
              "      <td>62123.53</td>\n",
              "      <td>127.741246</td>\n",
              "      <td>126.494312</td>\n",
              "      <td>139.119905</td>\n",
              "      <td>125.271109</td>\n",
              "      <td>128.284572</td>\n",
              "      <td>140.176945</td>\n",
              "      <td>128.292843</td>\n",
              "    </tr>\n",
              "    <tr>\n",
              "      <th>39604</th>\n",
              "      <td>68.504</td>\n",
              "      <td>103.320</td>\n",
              "      <td>61.37</td>\n",
              "      <td>1</td>\n",
              "      <td>103.137</td>\n",
              "      <td>68.864</td>\n",
              "      <td>32.29</td>\n",
              "      <td>116.28</td>\n",
              "      <td>272.41</td>\n",
              "      <td>0.0</td>\n",
              "      <td>...</td>\n",
              "      <td>1</td>\n",
              "      <td>1</td>\n",
              "      <td>61844.13</td>\n",
              "      <td>127.767377</td>\n",
              "      <td>124.062809</td>\n",
              "      <td>138.238664</td>\n",
              "      <td>119.879393</td>\n",
              "      <td>127.322529</td>\n",
              "      <td>137.312047</td>\n",
              "      <td>131.570614</td>\n",
              "    </tr>\n",
              "    <tr>\n",
              "      <th>39605</th>\n",
              "      <td>69.524</td>\n",
              "      <td>103.320</td>\n",
              "      <td>63.67</td>\n",
              "      <td>1</td>\n",
              "      <td>103.149</td>\n",
              "      <td>69.884</td>\n",
              "      <td>30.00</td>\n",
              "      <td>113.05</td>\n",
              "      <td>295.54</td>\n",
              "      <td>0.0</td>\n",
              "      <td>...</td>\n",
              "      <td>1</td>\n",
              "      <td>1</td>\n",
              "      <td>60277.53</td>\n",
              "      <td>128.593640</td>\n",
              "      <td>124.774037</td>\n",
              "      <td>138.659624</td>\n",
              "      <td>123.999571</td>\n",
              "      <td>126.075542</td>\n",
              "      <td>135.656132</td>\n",
              "      <td>127.671108</td>\n",
              "    </tr>\n",
              "    <tr>\n",
              "      <th>39606</th>\n",
              "      <td>67.485</td>\n",
              "      <td>103.321</td>\n",
              "      <td>61.77</td>\n",
              "      <td>1</td>\n",
              "      <td>103.148</td>\n",
              "      <td>67.845</td>\n",
              "      <td>32.05</td>\n",
              "      <td>115.05</td>\n",
              "      <td>267.26</td>\n",
              "      <td>0.0</td>\n",
              "      <td>...</td>\n",
              "      <td>1</td>\n",
              "      <td>1</td>\n",
              "      <td>60236.73</td>\n",
              "      <td>121.110646</td>\n",
              "      <td>125.471699</td>\n",
              "      <td>134.989984</td>\n",
              "      <td>120.889578</td>\n",
              "      <td>129.296909</td>\n",
              "      <td>132.673977</td>\n",
              "      <td>131.882893</td>\n",
              "    </tr>\n",
              "    <tr>\n",
              "      <th>39607</th>\n",
              "      <td>71.563</td>\n",
              "      <td>103.320</td>\n",
              "      <td>63.07</td>\n",
              "      <td>1</td>\n",
              "      <td>103.158</td>\n",
              "      <td>71.923</td>\n",
              "      <td>31.14</td>\n",
              "      <td>102.22</td>\n",
              "      <td>215.85</td>\n",
              "      <td>0.0</td>\n",
              "      <td>...</td>\n",
              "      <td>1</td>\n",
              "      <td>1</td>\n",
              "      <td>60680.73</td>\n",
              "      <td>134.263593</td>\n",
              "      <td>129.765515</td>\n",
              "      <td>139.681833</td>\n",
              "      <td>128.243391</td>\n",
              "      <td>131.757923</td>\n",
              "      <td>139.903401</td>\n",
              "      <td>121.479191</td>\n",
              "    </tr>\n",
              "  </tbody>\n",
              "</table>\n",
              "<p>39608 rows × 56 columns</p>\n",
              "</div>\n",
              "      <button class=\"colab-df-convert\" onclick=\"convertToInteractive('df-b934df87-e998-451e-bd3f-fe58244a2742')\"\n",
              "              title=\"Convert this dataframe to an interactive table.\"\n",
              "              style=\"display:none;\">\n",
              "        \n",
              "  <svg xmlns=\"http://www.w3.org/2000/svg\" height=\"24px\"viewBox=\"0 0 24 24\"\n",
              "       width=\"24px\">\n",
              "    <path d=\"M0 0h24v24H0V0z\" fill=\"none\"/>\n",
              "    <path d=\"M18.56 5.44l.94 2.06.94-2.06 2.06-.94-2.06-.94-.94-2.06-.94 2.06-2.06.94zm-11 1L8.5 8.5l.94-2.06 2.06-.94-2.06-.94L8.5 2.5l-.94 2.06-2.06.94zm10 10l.94 2.06.94-2.06 2.06-.94-2.06-.94-.94-2.06-.94 2.06-2.06.94z\"/><path d=\"M17.41 7.96l-1.37-1.37c-.4-.4-.92-.59-1.43-.59-.52 0-1.04.2-1.43.59L10.3 9.45l-7.72 7.72c-.78.78-.78 2.05 0 2.83L4 21.41c.39.39.9.59 1.41.59.51 0 1.02-.2 1.41-.59l7.78-7.78 2.81-2.81c.8-.78.8-2.07 0-2.86zM5.41 20L4 18.59l7.72-7.72 1.47 1.35L5.41 20z\"/>\n",
              "  </svg>\n",
              "      </button>\n",
              "      \n",
              "  <style>\n",
              "    .colab-df-container {\n",
              "      display:flex;\n",
              "      flex-wrap:wrap;\n",
              "      gap: 12px;\n",
              "    }\n",
              "\n",
              "    .colab-df-convert {\n",
              "      background-color: #E8F0FE;\n",
              "      border: none;\n",
              "      border-radius: 50%;\n",
              "      cursor: pointer;\n",
              "      display: none;\n",
              "      fill: #1967D2;\n",
              "      height: 32px;\n",
              "      padding: 0 0 0 0;\n",
              "      width: 32px;\n",
              "    }\n",
              "\n",
              "    .colab-df-convert:hover {\n",
              "      background-color: #E2EBFA;\n",
              "      box-shadow: 0px 1px 2px rgba(60, 64, 67, 0.3), 0px 1px 3px 1px rgba(60, 64, 67, 0.15);\n",
              "      fill: #174EA6;\n",
              "    }\n",
              "\n",
              "    [theme=dark] .colab-df-convert {\n",
              "      background-color: #3B4455;\n",
              "      fill: #D2E3FC;\n",
              "    }\n",
              "\n",
              "    [theme=dark] .colab-df-convert:hover {\n",
              "      background-color: #434B5C;\n",
              "      box-shadow: 0px 1px 3px 1px rgba(0, 0, 0, 0.15);\n",
              "      filter: drop-shadow(0px 1px 2px rgba(0, 0, 0, 0.3));\n",
              "      fill: #FFFFFF;\n",
              "    }\n",
              "  </style>\n",
              "\n",
              "      <script>\n",
              "        const buttonEl =\n",
              "          document.querySelector('#df-b934df87-e998-451e-bd3f-fe58244a2742 button.colab-df-convert');\n",
              "        buttonEl.style.display =\n",
              "          google.colab.kernel.accessAllowed ? 'block' : 'none';\n",
              "\n",
              "        async function convertToInteractive(key) {\n",
              "          const element = document.querySelector('#df-b934df87-e998-451e-bd3f-fe58244a2742');\n",
              "          const dataTable =\n",
              "            await google.colab.kernel.invokeFunction('convertToInteractive',\n",
              "                                                     [key], {});\n",
              "          if (!dataTable) return;\n",
              "\n",
              "          const docLinkHtml = 'Like what you see? Visit the ' +\n",
              "            '<a target=\"_blank\" href=https://colab.research.google.com/notebooks/data_table.ipynb>data table notebook</a>'\n",
              "            + ' to learn more about interactive tables.';\n",
              "          element.innerHTML = '';\n",
              "          dataTable['output_type'] = 'display_data';\n",
              "          await google.colab.output.renderOutput(dataTable, element);\n",
              "          const docLink = document.createElement('div');\n",
              "          docLink.innerHTML = docLinkHtml;\n",
              "          element.appendChild(docLink);\n",
              "        }\n",
              "      </script>\n",
              "    </div>\n",
              "  </div>\n",
              "  "
            ]
          },
          "metadata": {},
          "execution_count": 9
        }
      ]
    },
    {
      "cell_type": "code",
      "execution_count": 10,
      "metadata": {
        "id": "IKsElsk0nQaF"
      },
      "outputs": [],
      "source": [
        "train_x = train_df.filter(regex='X') # Input : X Featrue\n",
        "train_y = train_df.filter(regex='Y') # Output : Y Feature"
      ]
    },
    {
      "cell_type": "code",
      "execution_count": 11,
      "metadata": {
        "id": "OgkLHfbUnQvD"
      },
      "outputs": [],
      "source": [
        "poly = PolynomialFeatures(include_bias=False)\n",
        "\n",
        "poly.fit(train_x)\n",
        "train_poly = poly.transform(train_x)"
      ]
    },
    {
      "cell_type": "code",
      "source": [
        "train_poly.shape"
      ],
      "metadata": {
        "colab": {
          "base_uri": "https://localhost:8080/"
        },
        "id": "Uycsl5tXvEfM",
        "outputId": "3507eb43-da53-4623-e6fd-f103afe8b606"
      },
      "execution_count": 12,
      "outputs": [
        {
          "output_type": "execute_result",
          "data": {
            "text/plain": [
              "(39607, 1652)"
            ]
          },
          "metadata": {},
          "execution_count": 12
        }
      ]
    },
    {
      "cell_type": "code",
      "execution_count": 13,
      "metadata": {
        "id": "yPzziCdEnQ-6"
      },
      "outputs": [],
      "source": [
        "test_poly = poly.transform(test_df)"
      ]
    },
    {
      "cell_type": "code",
      "source": [
        "test_poly.shape"
      ],
      "metadata": {
        "colab": {
          "base_uri": "https://localhost:8080/"
        },
        "id": "wiVJNbt-vX_4",
        "outputId": "01914c51-2152-411c-dda9-bafd1bf4e97e"
      },
      "execution_count": 14,
      "outputs": [
        {
          "output_type": "execute_result",
          "data": {
            "text/plain": [
              "(39608, 1652)"
            ]
          },
          "metadata": {},
          "execution_count": 14
        }
      ]
    },
    {
      "cell_type": "code",
      "source": [
        "ss = StandardScaler()\n",
        "ss.fit(train_poly)\n",
        "train_scaled = ss.transform(train_poly)\n",
        "test_scaled = ss.transform(test_poly)"
      ],
      "metadata": {
        "id": "O1nUg2eOHx46"
      },
      "execution_count": 15,
      "outputs": []
    },
    {
      "cell_type": "code",
      "execution_count": 16,
      "metadata": {
        "id": "sROriN8InQq0"
      },
      "outputs": [],
      "source": [
        "train_input, val_input, train_target, val_target = train_test_split(\n",
        "    train_scaled, train_y, test_size=0.2, random_state=42)"
      ]
    },
    {
      "cell_type": "code",
      "source": [
        "print(f'train_input : {train_input.shape}')\n",
        "print(f'val_input : {val_input.shape}')\n",
        "print(f'train_target  : {train_target.shape}')\n",
        "print(f'val_target  : {val_target.shape}')"
      ],
      "metadata": {
        "colab": {
          "base_uri": "https://localhost:8080/"
        },
        "id": "o1lV0rrsvHaV",
        "outputId": "c62cd652-6761-4fef-af8a-f9ef2f54ebba"
      },
      "execution_count": 17,
      "outputs": [
        {
          "output_type": "stream",
          "name": "stdout",
          "text": [
            "train_input : (31685, 1652)\n",
            "val_input : (7922, 1652)\n",
            "train_target  : (31685, 14)\n",
            "val_target  : (7922, 14)\n"
          ]
        }
      ]
    },
    {
      "cell_type": "code",
      "execution_count": 18,
      "metadata": {
        "colab": {
          "base_uri": "https://localhost:8080/"
        },
        "id": "rp8wwneZnQ4w",
        "outputId": "a6eb4c87-ac2d-43b4-deed-5a7ba5a3ec23"
      },
      "outputs": [
        {
          "output_type": "execute_result",
          "data": {
            "text/plain": [
              "array(['X_01', 'X_02', 'X_03', ..., 'X_55^2', 'X_55 X_56', 'X_56^2'],\n",
              "      dtype=object)"
            ]
          },
          "metadata": {},
          "execution_count": 18
        }
      ],
      "source": [
        "poly.get_feature_names_out()"
      ]
    },
    {
      "cell_type": "code",
      "execution_count": 19,
      "metadata": {
        "colab": {
          "base_uri": "https://localhost:8080/"
        },
        "id": "KjKc0PKvnRES",
        "outputId": "6cbe0622-a178-4d95-cdff-13e6ffe4c4aa"
      },
      "outputs": [
        {
          "output_type": "stream",
          "name": "stdout",
          "text": [
            "Done.\n"
          ]
        }
      ],
      "source": [
        "#Regression Model Fit\n",
        "lgbm = MultiOutputRegressor(LGBMRegressor(n_estimators=1000,\n",
        "                                            learning_rate=0.01, \n",
        "                                            subsample=0.8, \n",
        "                                            colsample_bytree = 0.8, \n",
        "                                            max_depth=7)).fit(train_input, train_target)\n",
        "print('Done.')"
      ]
    },
    {
      "cell_type": "code",
      "execution_count": 20,
      "metadata": {
        "id": "J8ZWWCP3nRQj",
        "colab": {
          "base_uri": "https://localhost:8080/"
        },
        "outputId": "744e01ef-4a39-49a1-f35a-dec8b7c83521"
      },
      "outputs": [
        {
          "output_type": "stream",
          "name": "stdout",
          "text": [
            "Done.\n"
          ]
        }
      ],
      "source": [
        "pred = lgbm.predict(val_input)\n",
        "print('Done.')"
      ]
    },
    {
      "cell_type": "code",
      "source": [
        "val_target = val_target.to_numpy()"
      ],
      "metadata": {
        "id": "RP7v1wrZAZ_J"
      },
      "execution_count": 21,
      "outputs": []
    },
    {
      "cell_type": "code",
      "source": [
        "lg_nrmse(val_target, pred)"
      ],
      "metadata": {
        "colab": {
          "base_uri": "https://localhost:8080/"
        },
        "id": "qxtCHs9xAKUL",
        "outputId": "73819980-94ec-426c-ff4c-a096bbd9946f"
      },
      "execution_count": 22,
      "outputs": [
        {
          "output_type": "execute_result",
          "data": {
            "text/plain": [
              "1.9347243256593276"
            ]
          },
          "metadata": {},
          "execution_count": 22
        }
      ]
    },
    {
      "cell_type": "code",
      "source": [
        "preds = lgbm.predict(test_scaled)"
      ],
      "metadata": {
        "id": "JpZRKa_fAJ1L"
      },
      "execution_count": 23,
      "outputs": []
    },
    {
      "cell_type": "code",
      "source": [
        "submit = pd.read_csv('sample_submission.csv')"
      ],
      "metadata": {
        "id": "Exo_49lFVh71"
      },
      "execution_count": 24,
      "outputs": []
    },
    {
      "cell_type": "code",
      "source": [
        "for idx, col in enumerate(submit.columns):\n",
        "    if col=='ID':\n",
        "        continue\n",
        "    submit[col] = preds[:,idx-1]\n",
        "print('Done.')"
      ],
      "metadata": {
        "colab": {
          "base_uri": "https://localhost:8080/"
        },
        "id": "s1LisHHAQyj9",
        "outputId": "cc00a549-dca7-4533-9378-c559b4e0cd2c"
      },
      "execution_count": 25,
      "outputs": [
        {
          "output_type": "stream",
          "name": "stdout",
          "text": [
            "Done.\n"
          ]
        }
      ]
    },
    {
      "cell_type": "code",
      "source": [
        "submit.to_csv('submit_lgbm_pf2.csv', index=False)"
      ],
      "metadata": {
        "id": "ltG2QrdtQz4c"
      },
      "execution_count": 26,
      "outputs": []
    },
    {
      "cell_type": "code",
      "source": [
        "lgbm = pd.read_csv('submit_lgbm_pf2.csv').drop(['ID'], axis=1)\n",
        "rf = pd.read_csv('m0818.csv').drop(['ID'],axis=1)\n",
        "xgb = pd.read_csv('m0819b.csv').drop(['ID'],axis=1)"
      ],
      "metadata": {
        "id": "bA5dpgH9GNYJ"
      },
      "execution_count": null,
      "outputs": []
    },
    {
      "cell_type": "code",
      "source": [
        "lgbm"
      ],
      "metadata": {
        "id": "067zTKwoGC6n"
      },
      "execution_count": null,
      "outputs": []
    },
    {
      "cell_type": "code",
      "source": [
        "rf"
      ],
      "metadata": {
        "id": "mwhNGUhJGKsX"
      },
      "execution_count": null,
      "outputs": []
    },
    {
      "cell_type": "code",
      "source": [
        "xgb"
      ],
      "metadata": {
        "id": "zDxE-APsGDcU"
      },
      "execution_count": null,
      "outputs": []
    },
    {
      "cell_type": "code",
      "source": [
        "sum_ = lgbm + xgb + rf ;\n",
        "div_ = sum_ / 3 ; div_"
      ],
      "metadata": {
        "id": "_DeyQHKCGD40"
      },
      "execution_count": null,
      "outputs": []
    },
    {
      "cell_type": "code",
      "source": [
        "submit_ = pd.concat([submit[['ID']], div_], axis=1)\n",
        "submit_.to_csv('assemble_b.csv', index=False)"
      ],
      "metadata": {
        "id": "_VFhrz2YGEIX"
      },
      "execution_count": null,
      "outputs": []
    }
  ],
  "metadata": {
    "colab": {
      "name": "LGBMRegressor(scaled)",
      "provenance": [],
      "authorship_tag": "ABX9TyPIXOAEQ3vqhXiZuxrPJ0UJ",
      "include_colab_link": true
    },
    "kernelspec": {
      "display_name": "Python 3",
      "name": "python3"
    },
    "language_info": {
      "name": "python"
    }
  },
  "nbformat": 4,
  "nbformat_minor": 0
}
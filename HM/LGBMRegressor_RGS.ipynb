{
  "nbformat": 4,
  "nbformat_minor": 0,
  "metadata": {
    "colab": {
      "name": "LGBMRegressor-RGS.ipynb",
      "provenance": [],
      "authorship_tag": "ABX9TyP5QrDtNkxKVKcoQ1Mu+Rzv",
      "include_colab_link": true
    },
    "kernelspec": {
      "name": "python3",
      "display_name": "Python 3"
    },
    "language_info": {
      "name": "python"
    },
    "accelerator": "GPU",
    "gpuClass": "standard"
  },
  "cells": [
    {
      "cell_type": "markdown",
      "metadata": {
        "id": "view-in-github",
        "colab_type": "text"
      },
      "source": [
        "<a href=\"https://colab.research.google.com/github/jwc22-11/lgdacon/blob/main/HM/LGBMRegressor_RGS.ipynb\" target=\"_parent\"><img src=\"https://colab.research.google.com/assets/colab-badge.svg\" alt=\"Open In Colab\"/></a>"
      ]
    },
    {
      "cell_type": "code",
      "execution_count": 1,
      "metadata": {
        "id": "i5LT2PfpkZnF"
      },
      "outputs": [],
      "source": [
        "import pandas as pd\n",
        "import random\n",
        "import os\n",
        "import numpy as np\n",
        "\n",
        "from sklearn.linear_model import LinearRegression\n",
        "from sklearn.multioutput import MultiOutputRegressor\n",
        "from lightgbm import LGBMRegressor\n",
        "from sklearn.model_selection import KFold\n",
        "from sklearn.preprocessing import StandardScaler\n",
        "from sklearn.model_selection import train_test_split\n",
        "from sklearn.model_selection import RandomizedSearchCV\n",
        "import sklearn.metrics as metrics\n",
        "from sklearn.metrics import make_scorer\n",
        "from sklearn.metrics import mean_squared_error"
      ]
    },
    {
      "cell_type": "code",
      "source": [
        "def seed_everything(seed):\n",
        "    random.seed(seed)\n",
        "    os.environ['PYTHONHASHSEED'] = str(seed)\n",
        "    np.random.seed(seed)\n",
        "seed_everything(42) # Seed 고정"
      ],
      "metadata": {
        "id": "QckEARTMlD2_"
      },
      "execution_count": 2,
      "outputs": []
    },
    {
      "cell_type": "code",
      "source": [
        "%ls"
      ],
      "metadata": {
        "colab": {
          "base_uri": "https://localhost:8080/"
        },
        "id": "tCZ_kXxPlW8O",
        "outputId": "bef43bc0-d15d-4792-9355-d1c63b96159c"
      },
      "execution_count": 3,
      "outputs": [
        {
          "output_type": "stream",
          "name": "stdout",
          "text": [
            "\u001b[0m\u001b[01;34msample_data\u001b[0m/  sample_submission.csv  test.csv  train.csv\n"
          ]
        }
      ]
    },
    {
      "cell_type": "code",
      "source": [
        "train_df = pd.read_csv('train.csv')"
      ],
      "metadata": {
        "id": "2GmMs9STlLtt"
      },
      "execution_count": 4,
      "outputs": []
    },
    {
      "cell_type": "code",
      "source": [
        "train_df"
      ],
      "metadata": {
        "colab": {
          "base_uri": "https://localhost:8080/",
          "height": 483
        },
        "id": "NHydg5xpLrMP",
        "outputId": "369f8084-33d8-42e6-e95c-7e23b9bc044b"
      },
      "execution_count": 5,
      "outputs": [
        {
          "output_type": "execute_result",
          "data": {
            "text/plain": [
              "                ID    X_01     X_02   X_03  X_04     X_05    X_06   X_07  \\\n",
              "0      TRAIN_00001  70.544  103.320  67.47     1  101.892  74.983  29.45   \n",
              "1      TRAIN_00002  69.524  103.321  65.17     1  101.944  72.943  28.73   \n",
              "2      TRAIN_00003  72.583  103.320  64.07     1  103.153  72.943  28.81   \n",
              "3      TRAIN_00004  71.563  103.320  67.57     1  101.971  77.022  28.92   \n",
              "4      TRAIN_00005  69.524  103.320  63.57     1  101.981  70.904  29.68   \n",
              "...            ...     ...      ...    ...   ...      ...     ...    ...   \n",
              "39602  TRAIN_39603  66.465  103.320  62.27     1  103.150  66.825  30.20   \n",
              "39603  TRAIN_39604  66.465  103.321  62.77     1  102.021  66.825  29.21   \n",
              "39604  TRAIN_39605  68.504  103.320  64.67     1  103.144  68.864  29.96   \n",
              "39605  TRAIN_39606  66.465  103.320  63.67     1  102.025  67.845  30.30   \n",
              "39606  TRAIN_39607  66.465  103.320  65.67     1  102.004  69.884  30.16   \n",
              "\n",
              "         X_08    X_09  ...    Y_05    Y_06   Y_07    Y_08    Y_09    Y_10  \\\n",
              "0       62.38  245.71  ...  29.632  16.083  4.276 -25.381 -25.529 -22.769   \n",
              "1       61.23  233.61  ...  33.179  16.736  3.229 -26.619 -26.523 -22.574   \n",
              "2      105.77  272.20  ...  31.801  17.080  2.839 -26.238 -26.216 -22.169   \n",
              "3      115.21  255.36  ...  34.503  17.143  3.144 -25.426 -25.079 -21.765   \n",
              "4      103.38  241.46  ...  32.602  17.569  3.138 -25.376 -25.242 -21.072   \n",
              "...       ...     ...  ...     ...     ...    ...     ...     ...     ...   \n",
              "39602   77.83  298.05  ...  29.194  16.582  3.410 -26.486 -26.581 -22.772   \n",
              "39603  102.25  270.67  ...  29.859  15.659  3.406 -27.308 -27.203 -24.674   \n",
              "39604  102.61  198.07  ...  24.720  16.823  3.215 -26.502 -26.687 -22.577   \n",
              "39605  112.60  275.52  ...  26.412  15.757  4.216 -26.760 -26.634 -24.066   \n",
              "39606  112.90  276.06  ...  30.745  16.781  3.307 -26.054 -26.251 -23.257   \n",
              "\n",
              "         Y_11    Y_12    Y_13    Y_14  \n",
              "0      23.792 -25.470 -25.409 -25.304  \n",
              "1      24.691 -26.253 -26.497 -26.438  \n",
              "2      24.649 -26.285 -26.215 -26.370  \n",
              "3      24.913 -25.254 -25.021 -25.345  \n",
              "4      25.299 -25.072 -25.195 -24.974  \n",
              "...       ...     ...     ...     ...  \n",
              "39602  24.261 -26.491 -26.584 -26.580  \n",
              "39603  23.427 -27.250 -27.334 -27.325  \n",
              "39604  24.301 -26.388 -26.425 -26.601  \n",
              "39605  23.305 -26.536 -26.751 -26.635  \n",
              "39606  24.450 -26.224 -26.256 -26.093  \n",
              "\n",
              "[39607 rows x 71 columns]"
            ],
            "text/html": [
              "\n",
              "  <div id=\"df-6ecda6e4-7f29-457c-86d4-5cfd37595a22\">\n",
              "    <div class=\"colab-df-container\">\n",
              "      <div>\n",
              "<style scoped>\n",
              "    .dataframe tbody tr th:only-of-type {\n",
              "        vertical-align: middle;\n",
              "    }\n",
              "\n",
              "    .dataframe tbody tr th {\n",
              "        vertical-align: top;\n",
              "    }\n",
              "\n",
              "    .dataframe thead th {\n",
              "        text-align: right;\n",
              "    }\n",
              "</style>\n",
              "<table border=\"1\" class=\"dataframe\">\n",
              "  <thead>\n",
              "    <tr style=\"text-align: right;\">\n",
              "      <th></th>\n",
              "      <th>ID</th>\n",
              "      <th>X_01</th>\n",
              "      <th>X_02</th>\n",
              "      <th>X_03</th>\n",
              "      <th>X_04</th>\n",
              "      <th>X_05</th>\n",
              "      <th>X_06</th>\n",
              "      <th>X_07</th>\n",
              "      <th>X_08</th>\n",
              "      <th>X_09</th>\n",
              "      <th>...</th>\n",
              "      <th>Y_05</th>\n",
              "      <th>Y_06</th>\n",
              "      <th>Y_07</th>\n",
              "      <th>Y_08</th>\n",
              "      <th>Y_09</th>\n",
              "      <th>Y_10</th>\n",
              "      <th>Y_11</th>\n",
              "      <th>Y_12</th>\n",
              "      <th>Y_13</th>\n",
              "      <th>Y_14</th>\n",
              "    </tr>\n",
              "  </thead>\n",
              "  <tbody>\n",
              "    <tr>\n",
              "      <th>0</th>\n",
              "      <td>TRAIN_00001</td>\n",
              "      <td>70.544</td>\n",
              "      <td>103.320</td>\n",
              "      <td>67.47</td>\n",
              "      <td>1</td>\n",
              "      <td>101.892</td>\n",
              "      <td>74.983</td>\n",
              "      <td>29.45</td>\n",
              "      <td>62.38</td>\n",
              "      <td>245.71</td>\n",
              "      <td>...</td>\n",
              "      <td>29.632</td>\n",
              "      <td>16.083</td>\n",
              "      <td>4.276</td>\n",
              "      <td>-25.381</td>\n",
              "      <td>-25.529</td>\n",
              "      <td>-22.769</td>\n",
              "      <td>23.792</td>\n",
              "      <td>-25.470</td>\n",
              "      <td>-25.409</td>\n",
              "      <td>-25.304</td>\n",
              "    </tr>\n",
              "    <tr>\n",
              "      <th>1</th>\n",
              "      <td>TRAIN_00002</td>\n",
              "      <td>69.524</td>\n",
              "      <td>103.321</td>\n",
              "      <td>65.17</td>\n",
              "      <td>1</td>\n",
              "      <td>101.944</td>\n",
              "      <td>72.943</td>\n",
              "      <td>28.73</td>\n",
              "      <td>61.23</td>\n",
              "      <td>233.61</td>\n",
              "      <td>...</td>\n",
              "      <td>33.179</td>\n",
              "      <td>16.736</td>\n",
              "      <td>3.229</td>\n",
              "      <td>-26.619</td>\n",
              "      <td>-26.523</td>\n",
              "      <td>-22.574</td>\n",
              "      <td>24.691</td>\n",
              "      <td>-26.253</td>\n",
              "      <td>-26.497</td>\n",
              "      <td>-26.438</td>\n",
              "    </tr>\n",
              "    <tr>\n",
              "      <th>2</th>\n",
              "      <td>TRAIN_00003</td>\n",
              "      <td>72.583</td>\n",
              "      <td>103.320</td>\n",
              "      <td>64.07</td>\n",
              "      <td>1</td>\n",
              "      <td>103.153</td>\n",
              "      <td>72.943</td>\n",
              "      <td>28.81</td>\n",
              "      <td>105.77</td>\n",
              "      <td>272.20</td>\n",
              "      <td>...</td>\n",
              "      <td>31.801</td>\n",
              "      <td>17.080</td>\n",
              "      <td>2.839</td>\n",
              "      <td>-26.238</td>\n",
              "      <td>-26.216</td>\n",
              "      <td>-22.169</td>\n",
              "      <td>24.649</td>\n",
              "      <td>-26.285</td>\n",
              "      <td>-26.215</td>\n",
              "      <td>-26.370</td>\n",
              "    </tr>\n",
              "    <tr>\n",
              "      <th>3</th>\n",
              "      <td>TRAIN_00004</td>\n",
              "      <td>71.563</td>\n",
              "      <td>103.320</td>\n",
              "      <td>67.57</td>\n",
              "      <td>1</td>\n",
              "      <td>101.971</td>\n",
              "      <td>77.022</td>\n",
              "      <td>28.92</td>\n",
              "      <td>115.21</td>\n",
              "      <td>255.36</td>\n",
              "      <td>...</td>\n",
              "      <td>34.503</td>\n",
              "      <td>17.143</td>\n",
              "      <td>3.144</td>\n",
              "      <td>-25.426</td>\n",
              "      <td>-25.079</td>\n",
              "      <td>-21.765</td>\n",
              "      <td>24.913</td>\n",
              "      <td>-25.254</td>\n",
              "      <td>-25.021</td>\n",
              "      <td>-25.345</td>\n",
              "    </tr>\n",
              "    <tr>\n",
              "      <th>4</th>\n",
              "      <td>TRAIN_00005</td>\n",
              "      <td>69.524</td>\n",
              "      <td>103.320</td>\n",
              "      <td>63.57</td>\n",
              "      <td>1</td>\n",
              "      <td>101.981</td>\n",
              "      <td>70.904</td>\n",
              "      <td>29.68</td>\n",
              "      <td>103.38</td>\n",
              "      <td>241.46</td>\n",
              "      <td>...</td>\n",
              "      <td>32.602</td>\n",
              "      <td>17.569</td>\n",
              "      <td>3.138</td>\n",
              "      <td>-25.376</td>\n",
              "      <td>-25.242</td>\n",
              "      <td>-21.072</td>\n",
              "      <td>25.299</td>\n",
              "      <td>-25.072</td>\n",
              "      <td>-25.195</td>\n",
              "      <td>-24.974</td>\n",
              "    </tr>\n",
              "    <tr>\n",
              "      <th>...</th>\n",
              "      <td>...</td>\n",
              "      <td>...</td>\n",
              "      <td>...</td>\n",
              "      <td>...</td>\n",
              "      <td>...</td>\n",
              "      <td>...</td>\n",
              "      <td>...</td>\n",
              "      <td>...</td>\n",
              "      <td>...</td>\n",
              "      <td>...</td>\n",
              "      <td>...</td>\n",
              "      <td>...</td>\n",
              "      <td>...</td>\n",
              "      <td>...</td>\n",
              "      <td>...</td>\n",
              "      <td>...</td>\n",
              "      <td>...</td>\n",
              "      <td>...</td>\n",
              "      <td>...</td>\n",
              "      <td>...</td>\n",
              "      <td>...</td>\n",
              "    </tr>\n",
              "    <tr>\n",
              "      <th>39602</th>\n",
              "      <td>TRAIN_39603</td>\n",
              "      <td>66.465</td>\n",
              "      <td>103.320</td>\n",
              "      <td>62.27</td>\n",
              "      <td>1</td>\n",
              "      <td>103.150</td>\n",
              "      <td>66.825</td>\n",
              "      <td>30.20</td>\n",
              "      <td>77.83</td>\n",
              "      <td>298.05</td>\n",
              "      <td>...</td>\n",
              "      <td>29.194</td>\n",
              "      <td>16.582</td>\n",
              "      <td>3.410</td>\n",
              "      <td>-26.486</td>\n",
              "      <td>-26.581</td>\n",
              "      <td>-22.772</td>\n",
              "      <td>24.261</td>\n",
              "      <td>-26.491</td>\n",
              "      <td>-26.584</td>\n",
              "      <td>-26.580</td>\n",
              "    </tr>\n",
              "    <tr>\n",
              "      <th>39603</th>\n",
              "      <td>TRAIN_39604</td>\n",
              "      <td>66.465</td>\n",
              "      <td>103.321</td>\n",
              "      <td>62.77</td>\n",
              "      <td>1</td>\n",
              "      <td>102.021</td>\n",
              "      <td>66.825</td>\n",
              "      <td>29.21</td>\n",
              "      <td>102.25</td>\n",
              "      <td>270.67</td>\n",
              "      <td>...</td>\n",
              "      <td>29.859</td>\n",
              "      <td>15.659</td>\n",
              "      <td>3.406</td>\n",
              "      <td>-27.308</td>\n",
              "      <td>-27.203</td>\n",
              "      <td>-24.674</td>\n",
              "      <td>23.427</td>\n",
              "      <td>-27.250</td>\n",
              "      <td>-27.334</td>\n",
              "      <td>-27.325</td>\n",
              "    </tr>\n",
              "    <tr>\n",
              "      <th>39604</th>\n",
              "      <td>TRAIN_39605</td>\n",
              "      <td>68.504</td>\n",
              "      <td>103.320</td>\n",
              "      <td>64.67</td>\n",
              "      <td>1</td>\n",
              "      <td>103.144</td>\n",
              "      <td>68.864</td>\n",
              "      <td>29.96</td>\n",
              "      <td>102.61</td>\n",
              "      <td>198.07</td>\n",
              "      <td>...</td>\n",
              "      <td>24.720</td>\n",
              "      <td>16.823</td>\n",
              "      <td>3.215</td>\n",
              "      <td>-26.502</td>\n",
              "      <td>-26.687</td>\n",
              "      <td>-22.577</td>\n",
              "      <td>24.301</td>\n",
              "      <td>-26.388</td>\n",
              "      <td>-26.425</td>\n",
              "      <td>-26.601</td>\n",
              "    </tr>\n",
              "    <tr>\n",
              "      <th>39605</th>\n",
              "      <td>TRAIN_39606</td>\n",
              "      <td>66.465</td>\n",
              "      <td>103.320</td>\n",
              "      <td>63.67</td>\n",
              "      <td>1</td>\n",
              "      <td>102.025</td>\n",
              "      <td>67.845</td>\n",
              "      <td>30.30</td>\n",
              "      <td>112.60</td>\n",
              "      <td>275.52</td>\n",
              "      <td>...</td>\n",
              "      <td>26.412</td>\n",
              "      <td>15.757</td>\n",
              "      <td>4.216</td>\n",
              "      <td>-26.760</td>\n",
              "      <td>-26.634</td>\n",
              "      <td>-24.066</td>\n",
              "      <td>23.305</td>\n",
              "      <td>-26.536</td>\n",
              "      <td>-26.751</td>\n",
              "      <td>-26.635</td>\n",
              "    </tr>\n",
              "    <tr>\n",
              "      <th>39606</th>\n",
              "      <td>TRAIN_39607</td>\n",
              "      <td>66.465</td>\n",
              "      <td>103.320</td>\n",
              "      <td>65.67</td>\n",
              "      <td>1</td>\n",
              "      <td>102.004</td>\n",
              "      <td>69.884</td>\n",
              "      <td>30.16</td>\n",
              "      <td>112.90</td>\n",
              "      <td>276.06</td>\n",
              "      <td>...</td>\n",
              "      <td>30.745</td>\n",
              "      <td>16.781</td>\n",
              "      <td>3.307</td>\n",
              "      <td>-26.054</td>\n",
              "      <td>-26.251</td>\n",
              "      <td>-23.257</td>\n",
              "      <td>24.450</td>\n",
              "      <td>-26.224</td>\n",
              "      <td>-26.256</td>\n",
              "      <td>-26.093</td>\n",
              "    </tr>\n",
              "  </tbody>\n",
              "</table>\n",
              "<p>39607 rows × 71 columns</p>\n",
              "</div>\n",
              "      <button class=\"colab-df-convert\" onclick=\"convertToInteractive('df-6ecda6e4-7f29-457c-86d4-5cfd37595a22')\"\n",
              "              title=\"Convert this dataframe to an interactive table.\"\n",
              "              style=\"display:none;\">\n",
              "        \n",
              "  <svg xmlns=\"http://www.w3.org/2000/svg\" height=\"24px\"viewBox=\"0 0 24 24\"\n",
              "       width=\"24px\">\n",
              "    <path d=\"M0 0h24v24H0V0z\" fill=\"none\"/>\n",
              "    <path d=\"M18.56 5.44l.94 2.06.94-2.06 2.06-.94-2.06-.94-.94-2.06-.94 2.06-2.06.94zm-11 1L8.5 8.5l.94-2.06 2.06-.94-2.06-.94L8.5 2.5l-.94 2.06-2.06.94zm10 10l.94 2.06.94-2.06 2.06-.94-2.06-.94-.94-2.06-.94 2.06-2.06.94z\"/><path d=\"M17.41 7.96l-1.37-1.37c-.4-.4-.92-.59-1.43-.59-.52 0-1.04.2-1.43.59L10.3 9.45l-7.72 7.72c-.78.78-.78 2.05 0 2.83L4 21.41c.39.39.9.59 1.41.59.51 0 1.02-.2 1.41-.59l7.78-7.78 2.81-2.81c.8-.78.8-2.07 0-2.86zM5.41 20L4 18.59l7.72-7.72 1.47 1.35L5.41 20z\"/>\n",
              "  </svg>\n",
              "      </button>\n",
              "      \n",
              "  <style>\n",
              "    .colab-df-container {\n",
              "      display:flex;\n",
              "      flex-wrap:wrap;\n",
              "      gap: 12px;\n",
              "    }\n",
              "\n",
              "    .colab-df-convert {\n",
              "      background-color: #E8F0FE;\n",
              "      border: none;\n",
              "      border-radius: 50%;\n",
              "      cursor: pointer;\n",
              "      display: none;\n",
              "      fill: #1967D2;\n",
              "      height: 32px;\n",
              "      padding: 0 0 0 0;\n",
              "      width: 32px;\n",
              "    }\n",
              "\n",
              "    .colab-df-convert:hover {\n",
              "      background-color: #E2EBFA;\n",
              "      box-shadow: 0px 1px 2px rgba(60, 64, 67, 0.3), 0px 1px 3px 1px rgba(60, 64, 67, 0.15);\n",
              "      fill: #174EA6;\n",
              "    }\n",
              "\n",
              "    [theme=dark] .colab-df-convert {\n",
              "      background-color: #3B4455;\n",
              "      fill: #D2E3FC;\n",
              "    }\n",
              "\n",
              "    [theme=dark] .colab-df-convert:hover {\n",
              "      background-color: #434B5C;\n",
              "      box-shadow: 0px 1px 3px 1px rgba(0, 0, 0, 0.15);\n",
              "      filter: drop-shadow(0px 1px 2px rgba(0, 0, 0, 0.3));\n",
              "      fill: #FFFFFF;\n",
              "    }\n",
              "  </style>\n",
              "\n",
              "      <script>\n",
              "        const buttonEl =\n",
              "          document.querySelector('#df-6ecda6e4-7f29-457c-86d4-5cfd37595a22 button.colab-df-convert');\n",
              "        buttonEl.style.display =\n",
              "          google.colab.kernel.accessAllowed ? 'block' : 'none';\n",
              "\n",
              "        async function convertToInteractive(key) {\n",
              "          const element = document.querySelector('#df-6ecda6e4-7f29-457c-86d4-5cfd37595a22');\n",
              "          const dataTable =\n",
              "            await google.colab.kernel.invokeFunction('convertToInteractive',\n",
              "                                                     [key], {});\n",
              "          if (!dataTable) return;\n",
              "\n",
              "          const docLinkHtml = 'Like what you see? Visit the ' +\n",
              "            '<a target=\"_blank\" href=https://colab.research.google.com/notebooks/data_table.ipynb>data table notebook</a>'\n",
              "            + ' to learn more about interactive tables.';\n",
              "          element.innerHTML = '';\n",
              "          dataTable['output_type'] = 'display_data';\n",
              "          await google.colab.output.renderOutput(dataTable, element);\n",
              "          const docLink = document.createElement('div');\n",
              "          docLink.innerHTML = docLinkHtml;\n",
              "          element.appendChild(docLink);\n",
              "        }\n",
              "      </script>\n",
              "    </div>\n",
              "  </div>\n",
              "  "
            ]
          },
          "metadata": {},
          "execution_count": 5
        }
      ]
    },
    {
      "cell_type": "code",
      "source": [
        "train_x = train_df.filter(regex='X') # Input : X Featrue\n",
        "train_y = train_df.filter(regex='Y') # Output : Y Feature"
      ],
      "metadata": {
        "id": "BAFsUYlnlOUk"
      },
      "execution_count": 6,
      "outputs": []
    },
    {
      "cell_type": "code",
      "source": [
        "# dataframe -> numpy array\n",
        "train_x = train_x.to_numpy()\n",
        "train_y = train_y.to_numpy()"
      ],
      "metadata": {
        "id": "X0Rk2XMdLw-V"
      },
      "execution_count": 7,
      "outputs": []
    },
    {
      "cell_type": "code",
      "source": [
        "def lg_nrmse(gt, preds):\n",
        "    # 각 Y Feature별 NRMSE 총합\n",
        "    # Y_01 ~ Y_08 까지 20% 가중치 부여\n",
        "    all_nrmse = []\n",
        "    for idx in range(14): # ignore 'ID'\n",
        "        rmse = metrics.mean_squared_error(gt[:,idx], preds[:,idx], squared=False)\n",
        "        nrmse = rmse/np.mean(np.abs(gt[:,idx]))\n",
        "        all_nrmse.append(nrmse)\n",
        "    score = 1.2 * np.sum(all_nrmse[:8]) + 1.0 * np.sum(all_nrmse[8:14])\n",
        "    return score"
      ],
      "metadata": {
        "id": "ujBIyeJdlQSh"
      },
      "execution_count": 8,
      "outputs": []
    },
    {
      "cell_type": "code",
      "source": [
        "train_input, val_input, train_target, val_target = train_test_split(\n",
        "    train_x, train_y, test_size=0.1, random_state=42)"
      ],
      "metadata": {
        "id": "sQR3gtaplSfj"
      },
      "execution_count": 9,
      "outputs": []
    },
    {
      "cell_type": "code",
      "source": [
        "print(train_input.shape)\n",
        "print(val_input.shape)\n",
        "print(train_target.shape)\n",
        "print(val_target.shape)"
      ],
      "metadata": {
        "colab": {
          "base_uri": "https://localhost:8080/"
        },
        "id": "pMdv6Ads-R6P",
        "outputId": "03a7dde5-8f90-4daa-a21f-faf71c4f01e5"
      },
      "execution_count": 10,
      "outputs": [
        {
          "output_type": "stream",
          "name": "stdout",
          "text": [
            "(35646, 56)\n",
            "(3961, 56)\n",
            "(35646, 14)\n",
            "(3961, 14)\n"
          ]
        }
      ]
    },
    {
      "cell_type": "code",
      "source": [
        "# RandomizedSearchCV\n",
        "params = {'estimator__n_estimators': [100, 200, 500, 1000, 2000],\n",
        "            'estimator__learning_rate': [0.1, 0.08, 0.05, 0.01],\n",
        "            'estimator__max_depth': [6, 7, 8],\n",
        "            'estimator__colsample_bytree': [0.8, 0.9, 1.0],\n",
        "            'estimator__subsample': [0.75, 0.8, 0.9, 1.0]}\n",
        "\n",
        "lg = LGBMRegressor()\n",
        "lgbm_cv = RandomizedSearchCV(MultiOutputRegressor(lg), params, random_state=42, cv=3, n_iter=25)"
      ],
      "metadata": {
        "id": "M-7p6fv8lUHf"
      },
      "execution_count": 11,
      "outputs": []
    },
    {
      "cell_type": "code",
      "source": [
        "lgbm_cv.fit(train_input, train_target)"
      ],
      "metadata": {
        "colab": {
          "base_uri": "https://localhost:8080/"
        },
        "id": "0PRs6mKiloSP",
        "outputId": "28d532c1-d47a-4124-a111-57b4de7715b1"
      },
      "execution_count": 12,
      "outputs": [
        {
          "output_type": "execute_result",
          "data": {
            "text/plain": [
              "RandomizedSearchCV(cv=3,\n",
              "                   estimator=MultiOutputRegressor(estimator=LGBMRegressor()),\n",
              "                   n_iter=25,\n",
              "                   param_distributions={'estimator__colsample_bytree': [0.8,\n",
              "                                                                        0.9,\n",
              "                                                                        1.0],\n",
              "                                        'estimator__learning_rate': [0.1, 0.08,\n",
              "                                                                     0.05,\n",
              "                                                                     0.01],\n",
              "                                        'estimator__max_depth': [6, 7, 8],\n",
              "                                        'estimator__n_estimators': [100, 200,\n",
              "                                                                    500, 1000,\n",
              "                                                                    2000],\n",
              "                                        'estimator__subsample': [0.75, 0.8, 0.9,\n",
              "                                                                 1.0]},\n",
              "                   random_state=42)"
            ]
          },
          "metadata": {},
          "execution_count": 12
        }
      ]
    },
    {
      "cell_type": "code",
      "source": [
        "print(lgbm_cv.best_params_)"
      ],
      "metadata": {
        "colab": {
          "base_uri": "https://localhost:8080/"
        },
        "id": "nofrQBkjznLa",
        "outputId": "9414eed1-a297-44b1-a4f0-c3d56d0df3c0"
      },
      "execution_count": 13,
      "outputs": [
        {
          "output_type": "stream",
          "name": "stdout",
          "text": [
            "{'estimator__subsample': 0.8, 'estimator__n_estimators': 1000, 'estimator__max_depth': 7, 'estimator__learning_rate': 0.01, 'estimator__colsample_bytree': 0.8}\n"
          ]
        }
      ]
    },
    {
      "cell_type": "code",
      "source": [
        "#Regression Model Fit\n",
        "lgbm = MultiOutputRegressor(LGBMRegressor(n_estimators=1000,\n",
        "                                            learning_rate=0.01, \n",
        "                                            subsample=0.8, \n",
        "                                            colsample_bytree = 0.8, \n",
        "                                            max_depth=7)).fit(train_input, train_target)\n",
        "print('Done.')"
      ],
      "metadata": {
        "colab": {
          "base_uri": "https://localhost:8080/"
        },
        "id": "4ooPHFcDiR_y",
        "outputId": "c5519161-711f-4999-ecfc-c50f8e2468e8"
      },
      "execution_count": 14,
      "outputs": [
        {
          "output_type": "stream",
          "name": "stdout",
          "text": [
            "Done.\n"
          ]
        }
      ]
    },
    {
      "cell_type": "code",
      "source": [
        "pred = lgbm.predict(val_input)\n",
        "print('Done.')"
      ],
      "metadata": {
        "colab": {
          "base_uri": "https://localhost:8080/"
        },
        "id": "IRsWd2VK0IiY",
        "outputId": "9c2e3355-8725-41d7-f554-0d0f9c9cb0ad"
      },
      "execution_count": 15,
      "outputs": [
        {
          "output_type": "stream",
          "name": "stdout",
          "text": [
            "Done.\n"
          ]
        }
      ]
    },
    {
      "cell_type": "code",
      "source": [
        "lg_nrmse(val_target, pred)"
      ],
      "metadata": {
        "colab": {
          "base_uri": "https://localhost:8080/"
        },
        "id": "HKUU06Ym2-0g",
        "outputId": "c53a41b6-d053-4d3c-8349-1a5b8070f07f"
      },
      "execution_count": 16,
      "outputs": [
        {
          "output_type": "execute_result",
          "data": {
            "text/plain": [
              "1.9318340731739099"
            ]
          },
          "metadata": {},
          "execution_count": 16
        }
      ]
    },
    {
      "cell_type": "code",
      "source": [
        "test_x = pd.read_csv('test.csv').drop(columns=['ID'])"
      ],
      "metadata": {
        "id": "QNPCLzEE7RXX"
      },
      "execution_count": null,
      "outputs": []
    },
    {
      "cell_type": "code",
      "source": [
        "preds = lgbm.predict(test_x)"
      ],
      "metadata": {
        "id": "LUaa_oJr7NCc"
      },
      "execution_count": null,
      "outputs": []
    },
    {
      "cell_type": "code",
      "source": [
        "submit = pd.read_csv('sample_submission.csv')"
      ],
      "metadata": {
        "id": "WFWc4uka5HaP"
      },
      "execution_count": null,
      "outputs": []
    },
    {
      "cell_type": "code",
      "source": [
        "for idx, col in enumerate(submit.columns):\n",
        "    if col=='ID':\n",
        "        continue\n",
        "    submit[col] = preds[:,idx-1]\n",
        "print('Done.')"
      ],
      "metadata": {
        "colab": {
          "base_uri": "https://localhost:8080/"
        },
        "id": "pzuwuHUx654B",
        "outputId": "fe34905f-65c8-4987-da35-87ebbf3c178b"
      },
      "execution_count": null,
      "outputs": [
        {
          "output_type": "stream",
          "name": "stdout",
          "text": [
            "Done.\n"
          ]
        }
      ]
    },
    {
      "cell_type": "code",
      "source": [
        "submit.to_csv('submit_lgbm_cv.csv', index=False)"
      ],
      "metadata": {
        "id": "HznzD_0o68NH"
      },
      "execution_count": null,
      "outputs": []
    }
  ]
}
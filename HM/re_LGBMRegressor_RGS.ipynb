{
  "nbformat": 4,
  "nbformat_minor": 0,
  "metadata": {
    "colab": {
      "name": "re_LGBMRegressor_RGS.ipynb",
      "provenance": [],
      "authorship_tag": "ABX9TyMbEdNhJYebHe5sqKXOKvfM",
      "include_colab_link": true
    },
    "kernelspec": {
      "name": "python3",
      "display_name": "Python 3"
    },
    "language_info": {
      "name": "python"
    }
  },
  "cells": [
    {
      "cell_type": "markdown",
      "metadata": {
        "id": "view-in-github",
        "colab_type": "text"
      },
      "source": [
        "<a href=\"https://colab.research.google.com/github/jwc22-11/lgdacon/blob/main/HM/re_LGBMRegressor_RGS.ipynb\" target=\"_parent\"><img src=\"https://colab.research.google.com/assets/colab-badge.svg\" alt=\"Open In Colab\"/></a>"
      ]
    },
    {
      "cell_type": "code",
      "execution_count": 2,
      "metadata": {
        "id": "j9mEAdNFa1Vx"
      },
      "outputs": [],
      "source": [
        "import pandas as pd\n",
        "import random\n",
        "import os\n",
        "import numpy as np\n",
        "\n",
        "from sklearn.linear_model import LinearRegression\n",
        "from sklearn.multioutput import MultiOutputRegressor\n",
        "from lightgbm import LGBMRegressor\n",
        "\n",
        "from sklearn.preprocessing import StandardScaler\n",
        "\n",
        "from sklearn.model_selection import KFold\n",
        "from sklearn.model_selection import train_test_split\n",
        "from sklearn.model_selection import cross_validate\n",
        "\n",
        "import sklearn.metrics as metrics\n",
        "from sklearn.metrics import make_scorer\n",
        "from sklearn.metrics import mean_squared_error\n",
        "\n",
        "# hyperparameter tuning\n",
        "from scipy.stats import randint\n",
        "from sklearn.utils.fixes import loguniform\n",
        "from sklearn.model_selection import RandomizedSearchCV"
      ]
    },
    {
      "cell_type": "code",
      "source": [
        "def seed_everything(seed):\n",
        "    random.seed(seed)\n",
        "    os.environ['PYTHONHASHSEED'] = str(seed)\n",
        "    np.random.seed(seed)\n",
        "seed_everything(42) # Seed 고정"
      ],
      "metadata": {
        "id": "-QXdYNKYbVuR"
      },
      "execution_count": 3,
      "outputs": []
    },
    {
      "cell_type": "code",
      "source": [
        "def lg_nrmse(gt, preds):\n",
        "    # 각 Y Feature별 NRMSE 총합\n",
        "    # Y_01 ~ Y_08 까지 20% 가중치 부여\n",
        "    all_nrmse = []\n",
        "    for idx in range(14): # ignore 'ID'\n",
        "        rmse = metrics.mean_squared_error(gt[:,idx], preds[:,idx], squared=False)\n",
        "        nrmse = rmse/np.mean(np.abs(gt[:,idx]))\n",
        "        all_nrmse.append(nrmse)\n",
        "    score = 1.2 * np.sum(all_nrmse[:8]) + 1.0 * np.sum(all_nrmse[8:14])\n",
        "    return score"
      ],
      "metadata": {
        "id": "RerrezI4bgnc"
      },
      "execution_count": 4,
      "outputs": []
    },
    {
      "cell_type": "code",
      "source": [
        "train_df = pd.read_csv('train.csv').drop(columns=['ID'])\n",
        "test_df = pd.read_csv('test.csv').drop(columns=['ID'])"
      ],
      "metadata": {
        "id": "_-TPokqZbh-z"
      },
      "execution_count": 5,
      "outputs": []
    },
    {
      "cell_type": "code",
      "source": [
        "train_x = train_df.filter(regex='X') # Input : X Featrue\n",
        "train_y = train_df.filter(regex='Y')"
      ],
      "metadata": {
        "id": "-UfaiS6sbjwi"
      },
      "execution_count": 6,
      "outputs": []
    },
    {
      "cell_type": "code",
      "source": [
        "ss = StandardScaler()\n",
        "ss.fit(train_x)\n",
        "train_scaled = ss.transform(train_x)\n",
        "test_scaled = ss.transform(test_df)"
      ],
      "metadata": {
        "id": "hPEnXpJqblAZ"
      },
      "execution_count": 7,
      "outputs": []
    },
    {
      "cell_type": "code",
      "source": [
        "x_train, x_test, y_train, y_test = train_test_split(\n",
        "    train_scaled, train_y, test_size=0.1, random_state=42)"
      ],
      "metadata": {
        "id": "EUb7MSSEbmkv"
      },
      "execution_count": 8,
      "outputs": []
    },
    {
      "cell_type": "code",
      "source": [
        "print(x_train.shape)\n",
        "print(x_test.shape)\n",
        "print(y_train.shape)\n",
        "print(y_test.shape)"
      ],
      "metadata": {
        "colab": {
          "base_uri": "https://localhost:8080/"
        },
        "id": "MQgZ7F4Gbn1b",
        "outputId": "8037dace-3fb7-41e7-f26c-dbc8650eaaab"
      },
      "execution_count": 9,
      "outputs": [
        {
          "output_type": "stream",
          "name": "stdout",
          "text": [
            "(35646, 56)\n",
            "(3961, 56)\n",
            "(35646, 14)\n",
            "(3961, 14)\n"
          ]
        }
      ]
    },
    {
      "cell_type": "code",
      "source": [
        "from sklearn.pipeline import Pipeline\n",
        "\n",
        "regressor = MultiOutputRegressor(LGBMRegressor(random_state = 42))\n",
        "model = Pipeline([('regression', regressor)])\n",
        "\n",
        "# hyperparameter tuning\n",
        "param_grid = {\n",
        "    'regression__estimator__num_leaves' : randint(10, 100),\n",
        "    'regression__estimator__max_depth' : randint(1, 10),\n",
        "    'regression__estimator__min_child_samples' : randint(10, 40),\n",
        "    'regression__estimator__n_estimators' : randint(50, 300),\n",
        "    'regression__estimator__learning_rate' : loguniform(1e-3, 0.1),\n",
        "    'regression__estimator__subsample' : loguniform(0.6, 1.0),\n",
        "    'regression__estimator__subsample_freq' : randint(1, 5)\n",
        "}"
      ],
      "metadata": {
        "id": "Rc7E3GQRcbHM"
      },
      "execution_count": 17,
      "outputs": []
    },
    {
      "cell_type": "code",
      "source": [
        "gs_lgbm = RandomizedSearchCV(model, param_grid, random_state=42, cv=3, n_iter=25)"
      ],
      "metadata": {
        "id": "k4wwxzRcc4AB"
      },
      "execution_count": 18,
      "outputs": []
    },
    {
      "cell_type": "code",
      "source": [
        "gs_lgbm = gs_lgbm.fit(x_train, y_train)"
      ],
      "metadata": {
        "id": "gVBaWpbCdJqv"
      },
      "execution_count": 19,
      "outputs": []
    },
    {
      "cell_type": "code",
      "source": [
        "gs_lgbm.best_estimator_"
      ],
      "metadata": {
        "colab": {
          "base_uri": "https://localhost:8080/"
        },
        "id": "YuW6eZOydTak",
        "outputId": "1b505359-9779-4de9-88ea-d5e56889eb43"
      },
      "execution_count": 20,
      "outputs": [
        {
          "output_type": "execute_result",
          "data": {
            "text/plain": [
              "Pipeline(steps=[('regression',\n",
              "                 MultiOutputRegressor(estimator=LGBMRegressor(learning_rate=0.02878805718308923,\n",
              "                                                              max_depth=8,\n",
              "                                                              min_child_samples=31,\n",
              "                                                              n_estimators=268,\n",
              "                                                              num_leaves=44,\n",
              "                                                              random_state=42,\n",
              "                                                              subsample=0.7636802181498231,\n",
              "                                                              subsample_freq=1)))])"
            ]
          },
          "metadata": {},
          "execution_count": 20
        }
      ]
    },
    {
      "cell_type": "code",
      "source": [
        "# model save & load\n",
        "import joblib\n",
        "\n",
        "lgbr = gs_lgbm.best_estimator_\n",
        "\n",
        "joblib.dump(lgbr, 'lgbm_model.joblib')\n",
        "lgbr = joblib.load('lgbm_model.joblib')"
      ],
      "metadata": {
        "id": "2pKHqE5mbrou"
      },
      "execution_count": 21,
      "outputs": []
    },
    {
      "cell_type": "code",
      "source": [
        "y_pred = lgbr.predict(x_test)"
      ],
      "metadata": {
        "id": "3JvpmTh1kTim"
      },
      "execution_count": 22,
      "outputs": []
    },
    {
      "cell_type": "code",
      "source": [
        "y_test = y_test.to_numpy()"
      ],
      "metadata": {
        "id": "KUlyEFS5kalX"
      },
      "execution_count": 27,
      "outputs": []
    },
    {
      "cell_type": "code",
      "source": [
        "lg_nrmse(y_test,y_pred)"
      ],
      "metadata": {
        "colab": {
          "base_uri": "https://localhost:8080/"
        },
        "id": "Pq9SocTSkVr8",
        "outputId": "afc708b3-9997-4822-8d2c-f2a8aa88613d"
      },
      "execution_count": 28,
      "outputs": [
        {
          "output_type": "execute_result",
          "data": {
            "text/plain": [
              "1.932152280373224"
            ]
          },
          "metadata": {},
          "execution_count": 28
        }
      ]
    }
  ]
}
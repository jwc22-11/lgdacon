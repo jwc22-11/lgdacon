{
 "cells": [
  {
   "cell_type": "markdown",
   "id": "fd510dcf-85b2-4396-858c-a14a37960c76",
   "metadata": {},
   "source": [
    "## Importing the libraries"
   ]
  },
  {
   "cell_type": "code",
   "execution_count": 1,
   "id": "5c415d9d-1111-46ed-bc2d-849c75ab962a",
   "metadata": {},
   "outputs": [],
   "source": [
    "import pandas as pd\n",
    "import random\n",
    "import os\n",
    "import numpy as np\n",
    "import matplotlib.pyplot as plt\n",
    "import tensorflow as tf\n",
    "\n",
    "# added\n",
    "from sklearn.model_selection import train_test_split as tts\n",
    "from sklearn.metrics import make_scorer\n",
    "import sklearn.metrics as metrics\n",
    "import seaborn as sns\n",
    "import warnings\n",
    "warnings.filterwarnings(action='ignore')\n",
    "\n",
    "SEED = 42"
   ]
  },
  {
   "cell_type": "code",
   "execution_count": 2,
   "id": "edae871a-b31b-4f06-bb88-0fd1f6660b13",
   "metadata": {},
   "outputs": [],
   "source": [
    "def seed_everything(seed):\n",
    "    random.seed(seed)\n",
    "    os.environ['PYTHONHASHSEED'] = str(seed)\n",
    "    np.random.seed(seed)\n",
    "seed_everything(SEED) # Seed 고정"
   ]
  },
  {
   "cell_type": "markdown",
   "id": "18003e8e-4227-4e98-98de-0861ba8dc6cc",
   "metadata": {},
   "source": [
    "## Importing the train"
   ]
  },
  {
   "cell_type": "code",
   "execution_count": 3,
   "id": "ee76c413-001b-475e-9d1c-6662d25d2db2",
   "metadata": {},
   "outputs": [],
   "source": [
    "train = pd.read_csv('./train.csv')\n",
    "test = pd.read_csv('test.csv').drop(columns=['ID'])"
   ]
  },
  {
   "cell_type": "markdown",
   "id": "816c62d6",
   "metadata": {},
   "source": [
    "## EDA"
   ]
  },
  {
   "cell_type": "code",
   "execution_count": 4,
   "id": "ffc6afcd-a059-4c16-81a5-ab3d4d750a41",
   "metadata": {},
   "outputs": [],
   "source": [
    "# train.shape"
   ]
  },
  {
   "cell_type": "code",
   "execution_count": 5,
   "id": "337356e7",
   "metadata": {},
   "outputs": [],
   "source": [
    "# train.describe(include='all')"
   ]
  },
  {
   "cell_type": "code",
   "execution_count": 6,
   "id": "12f6138d",
   "metadata": {},
   "outputs": [],
   "source": [
    "# train.hist(figsize=(30, 30))"
   ]
  },
  {
   "cell_type": "markdown",
   "id": "63e2d1f1",
   "metadata": {},
   "source": [
    "## Preprocessing"
   ]
  },
  {
   "cell_type": "code",
   "execution_count": 7,
   "id": "57f3480b",
   "metadata": {},
   "outputs": [],
   "source": [
    "# # 방열재료 결측치(i.e., 0) 평균으로 치환\n",
    "# for i in range(56):\n",
    "#     if (train.iloc[:,i+1] == 0).sum() > 0:\n",
    "#         mu = sum(train.iloc[:,i+1])/len(train.iloc[:,i+1])\n",
    "#         train.iloc[:, i+1] = [mu if temp == 0 else temp for temp in train.iloc[:, i+1]]"
   ]
  },
  {
   "cell_type": "code",
   "execution_count": 8,
   "id": "95c43dca",
   "metadata": {},
   "outputs": [],
   "source": [
    "# train.drop(['ID','X_04','X_10','X_11','X_23','X_47','X_48'], axis=1, inplace=True)"
   ]
  },
  {
   "cell_type": "code",
   "execution_count": 11,
   "id": "8561e152",
   "metadata": {},
   "outputs": [],
   "source": [
    "X_train = train.filter(regex='X') # Input : X Featrue\n",
    "Y_train = train.filter(regex='Y') # Output : Y Feature"
   ]
  },
  {
   "cell_type": "code",
   "execution_count": 12,
   "id": "d2061be0",
   "metadata": {},
   "outputs": [
    {
     "name": "stdout",
     "output_type": "stream",
     "text": [
      "x_train : (31685, 56)\n",
      "y_train : (31685, 14)\n",
      "x_test  : (7922, 56)\n",
      "y_test  : (7922, 14)\n"
     ]
    }
   ],
   "source": [
    "x_train, x_test, y_train, y_test = tts(X_train, Y_train, test_size = 0.2, random_state = 1)\n",
    "print(f'x_train : {x_train.shape}')\n",
    "print(f'y_train : {y_train.shape}')\n",
    "print(f'x_test  : {x_test.shape}')\n",
    "print(f'y_test  : {y_test.shape}')"
   ]
  },
  {
   "cell_type": "markdown",
   "id": "9dd2d9e0",
   "metadata": {},
   "source": [
    "## Feature Scaling"
   ]
  },
  {
   "cell_type": "code",
   "execution_count": 15,
   "id": "e3c08064",
   "metadata": {},
   "outputs": [],
   "source": [
    "# 중앙값과 IQR 사용하여 아웃라이어의 영향 최소화\n",
    "from sklearn.preprocessing import StandardScaler# RobustScaler\n",
    "sc_X = StandardScaler()\n",
    "x_train.loc[:] = sc_X.fit_transform(x_train)\n",
    "x_test.loc[:] = sc_X.transform(x_test)"
   ]
  },
  {
   "cell_type": "markdown",
   "id": "9d2147b1",
   "metadata": {},
   "source": [
    "## Iterating through the loop to find the best output"
   ]
  },
  {
   "cell_type": "code",
   "execution_count": 16,
   "id": "4eb369f8",
   "metadata": {},
   "outputs": [],
   "source": [
    "def lg_nrmse(gt, preds):\n",
    "    # 각 Y Feature별 NRMSE 총합\n",
    "    # Y_01 ~ Y_08 까지 20% 가중치 부여\n",
    "    all_nrmse = []\n",
    "    for idx in range(14): # ignore 'ID'\n",
    "        rmse = metrics.mean_squared_error(gt[:,idx], preds[:,idx], squared=False)\n",
    "        nrmse = rmse/np.mean(np.abs(gt[:,idx]))\n",
    "        all_nrmse.append(nrmse)\n",
    "    score = 1.2 * np.sum(all_nrmse[:8]) + 1.0 * np.sum(all_nrmse[8:14])\n",
    "    return score"
   ]
  },
  {
   "cell_type": "code",
   "execution_count": 17,
   "id": "ea309ca3",
   "metadata": {},
   "outputs": [],
   "source": [
    "# from sklearn.ensemble import GradientBoostingRegressor#, RandomForestRegressor\n",
    "from lightgbm import LGBMRegressor\n",
    "from sklearn.multioutput import MultiOutputRegressor\n",
    "# from sklearn.model_selection import cross_val_score\n",
    "from sklearn.model_selection import GridSearchCV"
   ]
  },
  {
   "cell_type": "code",
   "execution_count": 18,
   "id": "4accc64b",
   "metadata": {},
   "outputs": [],
   "source": [
    "def feature_picker(xTrain, xTest, yVar):\n",
    "    temp_xTrain = xTrain.copy()\n",
    "    temp_xTest = xTest.copy()\n",
    "    for i in range(len(xTrain.columns)):\n",
    "        corr = np.corrcoef(xTrain.iloc[:,[i]].squeeze(), yVar.squeeze())[0][1]\n",
    "        if corr <= 0:\n",
    "            temp_xTrain.drop(xTrain.columns[i], axis=1, inplace=True)\n",
    "            temp_xTest.drop(xTest.columns[i], axis=1, inplace=True)       \n",
    "    \n",
    "    return (temp_xTrain, temp_xTest)"
   ]
  },
  {
   "cell_type": "code",
   "execution_count": 19,
   "metadata": {},
   "outputs": [
    {
     "name": "stdout",
     "output_type": "stream",
     "text": [
      "Currently iterating through STEP 0\n",
      "The shape of fine-tuned train/test set: (31685, 39)\n",
      "Done\n",
      "Currently iterating through STEP 1\n",
      "The shape of fine-tuned train/test set: (31685, 33)\n",
      "Done\n",
      "Currently iterating through STEP 2\n",
      "The shape of fine-tuned train/test set: (31685, 36)\n",
      "Done\n",
      "Currently iterating through STEP 3\n",
      "The shape of fine-tuned train/test set: (31685, 34)\n",
      "Done\n",
      "Currently iterating through STEP 4\n",
      "The shape of fine-tuned train/test set: (31685, 31)\n",
      "Done\n",
      "Currently iterating through STEP 5\n",
      "The shape of fine-tuned train/test set: (31685, 33)\n",
      "Done\n",
      "Currently iterating through STEP 6\n",
      "The shape of fine-tuned train/test set: (31685, 30)\n",
      "Done\n",
      "Currently iterating through STEP 7\n",
      "The shape of fine-tuned train/test set: (31685, 31)\n",
      "Done\n",
      "Currently iterating through STEP 8\n",
      "The shape of fine-tuned train/test set: (31685, 31)\n",
      "Done\n",
      "Currently iterating through STEP 9\n",
      "The shape of fine-tuned train/test set: (31685, 32)\n",
      "Done\n",
      "Currently iterating through STEP 10\n",
      "The shape of fine-tuned train/test set: (31685, 35)\n",
      "Done\n",
      "Currently iterating through STEP 11\n",
      "The shape of fine-tuned train/test set: (31685, 32)\n",
      "Done\n",
      "Currently iterating through STEP 12\n",
      "The shape of fine-tuned train/test set: (31685, 32)\n",
      "Done\n",
      "Currently iterating through STEP 13\n",
      "The shape of fine-tuned train/test set: (31685, 32)\n",
      "Done\n"
     ]
    }
   ],
   "source": [
    "# submit = pd.read_csv('./sample_submission.csv')\n",
    "submit = pd.DataFrame(np.zeros(y_test.shape), columns=y_test.columns)\n",
    "\n",
    "# for y_grp in y_trains:\n",
    "for i in range(len(y_train.columns)):\n",
    "    print('Currently iterating through STEP {}'.format(i))\n",
    "    \n",
    "    # feature scaling\n",
    "    sc_y = StandardScaler()\n",
    "    y = sc_y.fit_transform(y_train.iloc[:, [i]])\n",
    "\n",
    "    # feature selection\n",
    "    X_train_tuned, X_test_tuned = feature_picker(x_train, x_test, y)\n",
    "    print('The shape of fine-tuned train/test set: {}'.format(X_train_tuned.shape))\n",
    "    \n",
    "    # building the model\n",
    "    # regressor = GradientBoostingRegressor()\n",
    "    regressor = MultiOutputRegressor(LGBMRegressor(n_estimators=100,\n",
    "                                                   learning_rate=0.08, \n",
    "                                                   subsample=0.75, \n",
    "                                                   colsample_bytree = 1, \n",
    "                                                   max_depth=7,\n",
    "                                                   random_state=SEED)).fit(X_train_tuned, y)\n",
    "    print('Done')\n",
    "\n",
    "    # applying k-Fold Cross Validation\n",
    "    # accuracies = cross_val_score(estimator=regressor, X=X_train_tuned, y=y, cv = 10)\n",
    "    # print(\"Accuracy: {:.2f} %\".format(accuracies.mean()*100))\n",
    "    # print(\"Standard Deviation: {:.2f} %\".format(accuracies.std()*100))\n",
    "    \n",
    "    # applying Grid Search to find the best model and the best parameters    \n",
    "    # param_grid = {'estimator__learning_rate': [0.02, 0.04, 0.06, 0.08], \n",
    "    #               'estimator__subsample': [0.9, 0.5, 0.2, 0.1], \n",
    "    #               'estimator__max_depth': [4, 6, 8, 10],\n",
    "    #               'estimator__n_estimators': [100, 200, 300]}\n",
    "    # param_grid = {'n_estimators': [10, 100],\n",
    "    #                'max_depth': [6, 8, 10, 12],\n",
    "    #                'min_samples_leaf': [8, 12, 18],\n",
    "    #                'min_samples_split': [8, 16, 20],\n",
    "    #                'random_state': [SEED]}\n",
    "    \n",
    "    # score = make_scorer(lg_nrmse, greater_is_better=False)\n",
    "                \n",
    "    # grid_search = GridSearchCV(estimator = regressor,\n",
    "    #                         param_grid = param_grid,\n",
    "    #                         scoring = score,\n",
    "    #                         cv = 5,\n",
    "    #                         n_jobs = -1)\n",
    "    # grid_search.fit(X_train_tuned, y)\n",
    "    # best_accuracy = grid_search.best_score_\n",
    "    # best_parameters = grid_search.best_params_\n",
    "    # print(\"Best Accuracy: {:.2f} %\".format(best_accuracy*100))\n",
    "    # print(\"Best Parameters:\", best_parameters)\n",
    "    \n",
    "    # predicting the testset\n",
    "    y_pred = sc_y.inverse_transform(regressor.predict(X_test_tuned).reshape(-1,1))\n",
    "    np.set_printoptions(precision=2)\n",
    "    \n",
    "    submit[y_train.columns[i]] = y_pred"
   ]
  },
  {
   "cell_type": "code",
   "execution_count": 20,
   "id": "11641620",
   "metadata": {},
   "outputs": [
    {
     "data": {
      "text/html": [
       "<div>\n",
       "<style scoped>\n",
       "    .dataframe tbody tr th:only-of-type {\n",
       "        vertical-align: middle;\n",
       "    }\n",
       "\n",
       "    .dataframe tbody tr th {\n",
       "        vertical-align: top;\n",
       "    }\n",
       "\n",
       "    .dataframe thead th {\n",
       "        text-align: right;\n",
       "    }\n",
       "</style>\n",
       "<table border=\"1\" class=\"dataframe\">\n",
       "  <thead>\n",
       "    <tr style=\"text-align: right;\">\n",
       "      <th></th>\n",
       "      <th>Y_01</th>\n",
       "      <th>Y_02</th>\n",
       "      <th>Y_03</th>\n",
       "      <th>Y_04</th>\n",
       "      <th>Y_05</th>\n",
       "      <th>Y_06</th>\n",
       "      <th>Y_07</th>\n",
       "      <th>Y_08</th>\n",
       "      <th>Y_09</th>\n",
       "      <th>Y_10</th>\n",
       "      <th>Y_11</th>\n",
       "      <th>Y_12</th>\n",
       "      <th>Y_13</th>\n",
       "      <th>Y_14</th>\n",
       "    </tr>\n",
       "  </thead>\n",
       "  <tbody>\n",
       "    <tr>\n",
       "      <th>0</th>\n",
       "      <td>1.331263</td>\n",
       "      <td>1.040245</td>\n",
       "      <td>1.071137</td>\n",
       "      <td>13.366290</td>\n",
       "      <td>31.749152</td>\n",
       "      <td>16.663896</td>\n",
       "      <td>3.180849</td>\n",
       "      <td>-26.655418</td>\n",
       "      <td>-26.687541</td>\n",
       "      <td>-22.493505</td>\n",
       "      <td>24.228144</td>\n",
       "      <td>-26.664750</td>\n",
       "      <td>-26.602101</td>\n",
       "      <td>-26.615097</td>\n",
       "    </tr>\n",
       "    <tr>\n",
       "      <th>1</th>\n",
       "      <td>1.355288</td>\n",
       "      <td>1.120943</td>\n",
       "      <td>1.070534</td>\n",
       "      <td>13.604819</td>\n",
       "      <td>31.717266</td>\n",
       "      <td>16.210062</td>\n",
       "      <td>2.957023</td>\n",
       "      <td>-26.376816</td>\n",
       "      <td>-26.437224</td>\n",
       "      <td>-22.568321</td>\n",
       "      <td>24.348663</td>\n",
       "      <td>-26.289684</td>\n",
       "      <td>-26.312175</td>\n",
       "      <td>-26.406764</td>\n",
       "    </tr>\n",
       "    <tr>\n",
       "      <th>2</th>\n",
       "      <td>1.475754</td>\n",
       "      <td>1.137980</td>\n",
       "      <td>1.059735</td>\n",
       "      <td>13.304909</td>\n",
       "      <td>31.311082</td>\n",
       "      <td>16.703450</td>\n",
       "      <td>3.158081</td>\n",
       "      <td>-26.343459</td>\n",
       "      <td>-26.287661</td>\n",
       "      <td>-22.244416</td>\n",
       "      <td>24.201715</td>\n",
       "      <td>-26.200131</td>\n",
       "      <td>-26.280003</td>\n",
       "      <td>-26.257308</td>\n",
       "    </tr>\n",
       "    <tr>\n",
       "      <th>3</th>\n",
       "      <td>1.504937</td>\n",
       "      <td>1.151621</td>\n",
       "      <td>1.088582</td>\n",
       "      <td>11.687712</td>\n",
       "      <td>31.420172</td>\n",
       "      <td>16.479761</td>\n",
       "      <td>3.206696</td>\n",
       "      <td>-26.313362</td>\n",
       "      <td>-26.203038</td>\n",
       "      <td>-22.261686</td>\n",
       "      <td>24.233184</td>\n",
       "      <td>-26.262760</td>\n",
       "      <td>-26.263392</td>\n",
       "      <td>-26.273183</td>\n",
       "    </tr>\n",
       "    <tr>\n",
       "      <th>4</th>\n",
       "      <td>1.330788</td>\n",
       "      <td>1.037377</td>\n",
       "      <td>1.019081</td>\n",
       "      <td>14.379860</td>\n",
       "      <td>31.458388</td>\n",
       "      <td>16.656484</td>\n",
       "      <td>3.088314</td>\n",
       "      <td>-26.242353</td>\n",
       "      <td>-26.272885</td>\n",
       "      <td>-22.178540</td>\n",
       "      <td>24.459081</td>\n",
       "      <td>-26.180321</td>\n",
       "      <td>-26.182759</td>\n",
       "      <td>-26.223657</td>\n",
       "    </tr>\n",
       "    <tr>\n",
       "      <th>...</th>\n",
       "      <td>...</td>\n",
       "      <td>...</td>\n",
       "      <td>...</td>\n",
       "      <td>...</td>\n",
       "      <td>...</td>\n",
       "      <td>...</td>\n",
       "      <td>...</td>\n",
       "      <td>...</td>\n",
       "      <td>...</td>\n",
       "      <td>...</td>\n",
       "      <td>...</td>\n",
       "      <td>...</td>\n",
       "      <td>...</td>\n",
       "      <td>...</td>\n",
       "    </tr>\n",
       "    <tr>\n",
       "      <th>7917</th>\n",
       "      <td>1.324017</td>\n",
       "      <td>1.033374</td>\n",
       "      <td>0.933173</td>\n",
       "      <td>13.116851</td>\n",
       "      <td>30.586112</td>\n",
       "      <td>10.785748</td>\n",
       "      <td>3.155340</td>\n",
       "      <td>-26.265811</td>\n",
       "      <td>-26.393521</td>\n",
       "      <td>-22.581383</td>\n",
       "      <td>24.281746</td>\n",
       "      <td>-26.267697</td>\n",
       "      <td>-26.343305</td>\n",
       "      <td>-26.290933</td>\n",
       "    </tr>\n",
       "    <tr>\n",
       "      <th>7918</th>\n",
       "      <td>1.341221</td>\n",
       "      <td>1.055606</td>\n",
       "      <td>1.022187</td>\n",
       "      <td>14.175937</td>\n",
       "      <td>31.615707</td>\n",
       "      <td>16.598968</td>\n",
       "      <td>3.166487</td>\n",
       "      <td>-26.192026</td>\n",
       "      <td>-26.279263</td>\n",
       "      <td>-22.257713</td>\n",
       "      <td>24.438033</td>\n",
       "      <td>-26.097147</td>\n",
       "      <td>-26.115196</td>\n",
       "      <td>-26.151928</td>\n",
       "    </tr>\n",
       "    <tr>\n",
       "      <th>7919</th>\n",
       "      <td>1.505247</td>\n",
       "      <td>1.146289</td>\n",
       "      <td>1.059502</td>\n",
       "      <td>13.525079</td>\n",
       "      <td>31.126953</td>\n",
       "      <td>16.497605</td>\n",
       "      <td>3.155518</td>\n",
       "      <td>-26.195782</td>\n",
       "      <td>-26.234218</td>\n",
       "      <td>-22.307266</td>\n",
       "      <td>24.248645</td>\n",
       "      <td>-26.232695</td>\n",
       "      <td>-26.138702</td>\n",
       "      <td>-26.171879</td>\n",
       "    </tr>\n",
       "    <tr>\n",
       "      <th>7920</th>\n",
       "      <td>1.467617</td>\n",
       "      <td>1.144425</td>\n",
       "      <td>1.080249</td>\n",
       "      <td>14.181007</td>\n",
       "      <td>31.619080</td>\n",
       "      <td>16.626479</td>\n",
       "      <td>3.164676</td>\n",
       "      <td>-26.142361</td>\n",
       "      <td>-26.159286</td>\n",
       "      <td>-22.329922</td>\n",
       "      <td>24.394163</td>\n",
       "      <td>-26.072239</td>\n",
       "      <td>-26.086272</td>\n",
       "      <td>-26.124523</td>\n",
       "    </tr>\n",
       "    <tr>\n",
       "      <th>7921</th>\n",
       "      <td>1.372357</td>\n",
       "      <td>1.047151</td>\n",
       "      <td>0.984948</td>\n",
       "      <td>12.809799</td>\n",
       "      <td>30.907076</td>\n",
       "      <td>16.394902</td>\n",
       "      <td>3.093125</td>\n",
       "      <td>-26.447032</td>\n",
       "      <td>-26.472726</td>\n",
       "      <td>-22.482192</td>\n",
       "      <td>24.107607</td>\n",
       "      <td>-26.368837</td>\n",
       "      <td>-26.388419</td>\n",
       "      <td>-26.373784</td>\n",
       "    </tr>\n",
       "  </tbody>\n",
       "</table>\n",
       "<p>7922 rows × 14 columns</p>\n",
       "</div>"
      ],
      "text/plain": [
       "          Y_01      Y_02      Y_03       Y_04       Y_05       Y_06      Y_07  \\\n",
       "0     1.331263  1.040245  1.071137  13.366290  31.749152  16.663896  3.180849   \n",
       "1     1.355288  1.120943  1.070534  13.604819  31.717266  16.210062  2.957023   \n",
       "2     1.475754  1.137980  1.059735  13.304909  31.311082  16.703450  3.158081   \n",
       "3     1.504937  1.151621  1.088582  11.687712  31.420172  16.479761  3.206696   \n",
       "4     1.330788  1.037377  1.019081  14.379860  31.458388  16.656484  3.088314   \n",
       "...        ...       ...       ...        ...        ...        ...       ...   \n",
       "7917  1.324017  1.033374  0.933173  13.116851  30.586112  10.785748  3.155340   \n",
       "7918  1.341221  1.055606  1.022187  14.175937  31.615707  16.598968  3.166487   \n",
       "7919  1.505247  1.146289  1.059502  13.525079  31.126953  16.497605  3.155518   \n",
       "7920  1.467617  1.144425  1.080249  14.181007  31.619080  16.626479  3.164676   \n",
       "7921  1.372357  1.047151  0.984948  12.809799  30.907076  16.394902  3.093125   \n",
       "\n",
       "           Y_08       Y_09       Y_10       Y_11       Y_12       Y_13  \\\n",
       "0    -26.655418 -26.687541 -22.493505  24.228144 -26.664750 -26.602101   \n",
       "1    -26.376816 -26.437224 -22.568321  24.348663 -26.289684 -26.312175   \n",
       "2    -26.343459 -26.287661 -22.244416  24.201715 -26.200131 -26.280003   \n",
       "3    -26.313362 -26.203038 -22.261686  24.233184 -26.262760 -26.263392   \n",
       "4    -26.242353 -26.272885 -22.178540  24.459081 -26.180321 -26.182759   \n",
       "...         ...        ...        ...        ...        ...        ...   \n",
       "7917 -26.265811 -26.393521 -22.581383  24.281746 -26.267697 -26.343305   \n",
       "7918 -26.192026 -26.279263 -22.257713  24.438033 -26.097147 -26.115196   \n",
       "7919 -26.195782 -26.234218 -22.307266  24.248645 -26.232695 -26.138702   \n",
       "7920 -26.142361 -26.159286 -22.329922  24.394163 -26.072239 -26.086272   \n",
       "7921 -26.447032 -26.472726 -22.482192  24.107607 -26.368837 -26.388419   \n",
       "\n",
       "           Y_14  \n",
       "0    -26.615097  \n",
       "1    -26.406764  \n",
       "2    -26.257308  \n",
       "3    -26.273183  \n",
       "4    -26.223657  \n",
       "...         ...  \n",
       "7917 -26.290933  \n",
       "7918 -26.151928  \n",
       "7919 -26.171879  \n",
       "7920 -26.124523  \n",
       "7921 -26.373784  \n",
       "\n",
       "[7922 rows x 14 columns]"
      ]
     },
     "execution_count": 20,
     "metadata": {},
     "output_type": "execute_result"
    }
   ],
   "source": [
    "submit"
   ]
  },
  {
   "cell_type": "code",
   "execution_count": 21,
   "metadata": {},
   "outputs": [
    {
     "data": {
      "text/plain": [
       "1.9758966234411843"
      ]
     },
     "execution_count": 21,
     "metadata": {},
     "output_type": "execute_result"
    }
   ],
   "source": [
    "lg_nrmse(y_test.to_numpy(), submit.to_numpy())"
   ]
  },
  {
   "cell_type": "markdown",
   "id": "6f41cc9f-5cc4-4b03-9640-8c1982a7acad",
   "metadata": {},
   "source": [
    "## Submit"
   ]
  },
  {
   "cell_type": "code",
   "execution_count": 22,
   "id": "026b00cd-5680-4bf2-b7f8-0bea6ae8299e",
   "metadata": {},
   "outputs": [],
   "source": [
    "submit.to_csv('./submit.csv', index=False)"
   ]
  }
 ],
 "metadata": {
  "kernelspec": {
   "display_name": "Python 3.9.6 64-bit",
   "language": "python",
   "name": "python3"
  },
  "language_info": {
   "codemirror_mode": {
    "name": "ipython",
    "version": 3
   },
   "file_extension": ".py",
   "mimetype": "text/x-python",
   "name": "python",
   "nbconvert_exporter": "python",
   "pygments_lexer": "ipython3",
   "version": "3.9.6"
  },
  "vscode": {
   "interpreter": {
    "hash": "fb0118d73d3d26f88e0d1e3500a56a7fc92e760d5128bb0bdb4d57f6bad5166f"
   }
  }
 },
 "nbformat": 4,
 "nbformat_minor": 5
}
